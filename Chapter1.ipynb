{
 "cells": [
  {
   "cell_type": "markdown",
   "metadata": {},
   "source": [
    "# Chapter 1\n",
    "Covers the concepts of __primitives__, __combinations__, and __abstractions__.\n",
    "\n",
    "- Primitive: a symbol directly manipulable by the language, ex. integers, addition\n",
    "- Combination: a means of combining epxressions of primitives to make complex expressions\n",
    "- Abstraction: a way to label combinations and use them as primitives in a more complex problem\n",
    "\n",
    "The meaning of symbols in these combinatorial expressions, it is said, are determined by the __global environment__.\n",
    "\n",
    "All expressions by default are evaluated as such: the first item in the expression is the operand, and operates on all the items in the expression. Special forms are introduced which are exceptions to this rule. In order for the expression to be evaluated, its operands are evaluated, then the result is substituted into the definition of the operator (recursively repeating this process until only primitives remain), and then the final primitive expression is evaluated. This is called __applicative order__ because the operator is applied to the results of evaluating the operands.\n",
    "\n",
    "The other means of evaluating expressions is to first substitute the operand values into the operand, and then evaluate the result. That is, take the values for parameters (unevaluated), and substitute them in for the operator's parameters until only primitives remain, and evaluate the resulting expression. This is called __normal order__ evaluation. In __normal order__ evaluation, we will repeat evaluations for operand expressions if the corresponding parameter appears multiple times in the operator's definition.\n",
    "\n",
    "## Ordinary procedures\n",
    "- `not` because the value of the operand is always evaluated\n",
    "\n",
    "## Special Forms\n",
    "- `define` is used to create new operands\n",
    "- `cond` is used to conditionally evaluate expressions. Only the first expression whose predicate is true is evaluated, and predicates are evaluated in order\n",
    "- `if` is used to conditionally evaluate one of two expressions, depending on the result of evaluating the predicate (if true, evaluate the consequent, otherwise the alternative)\n",
    "- `and` evaluate the operands until one evaluates to false or none are left, and the value of the expression is the result of the most recently evaluated operand\n",
    "- `or` evaluate the operands until one evaluates to a true value or none are left, and return the value of the most recently evaluated expression\n",
    "\n",
    "__Note:__ in order to avoid a bug in calysto scheme's lexical scope code, the following is required a work-around, as described [here](https://github.com/Calysto/calysto_scheme/issues/8)."
   ]
  },
  {
   "cell_type": "code",
   "execution_count": 1,
   "metadata": {},
   "outputs": [],
   "source": [
    "(use-lexical-address #f)"
   ]
  },
  {
   "cell_type": "markdown",
   "metadata": {},
   "source": [
    "## Exercise 1.1\n",
    "The number 10 simply evaluates to `10`"
   ]
  },
  {
   "cell_type": "code",
   "execution_count": 2,
   "metadata": {},
   "outputs": [
    {
     "data": {
      "text/plain": [
       "10"
      ]
     },
     "execution_count": 2,
     "metadata": {},
     "output_type": "execute_result"
    }
   ],
   "source": [
    "10"
   ]
  },
  {
   "cell_type": "markdown",
   "metadata": {},
   "source": [
    "This expression sums the three numbers since operators may take an arbitrary number of operands. The result is `12`"
   ]
  },
  {
   "cell_type": "code",
   "execution_count": 3,
   "metadata": {},
   "outputs": [
    {
     "data": {
      "text/plain": [
       "12"
      ]
     },
     "execution_count": 3,
     "metadata": {},
     "output_type": "execute_result"
    }
   ],
   "source": [
    "(+ 5 4 3)"
   ]
  },
  {
   "cell_type": "markdown",
   "metadata": {},
   "source": [
    "This expression is a simple subtraction; the result is `8`"
   ]
  },
  {
   "cell_type": "code",
   "execution_count": 4,
   "metadata": {},
   "outputs": [
    {
     "data": {
      "text/plain": [
       "8"
      ]
     },
     "execution_count": 4,
     "metadata": {},
     "output_type": "execute_result"
    }
   ],
   "source": [
    "(- 9 1)"
   ]
  },
  {
   "cell_type": "markdown",
   "metadata": {},
   "source": [
    "This is an integer division problem whose result is `3`"
   ]
  },
  {
   "cell_type": "code",
   "execution_count": 5,
   "metadata": {},
   "outputs": [
    {
     "data": {
      "text/plain": [
       "3"
      ]
     },
     "execution_count": 5,
     "metadata": {},
     "output_type": "execute_result"
    }
   ],
   "source": [
    "(/ 6 2)"
   ]
  },
  {
   "cell_type": "markdown",
   "metadata": {},
   "source": [
    "This is a compound expression. The operator is a primitive, so no substitution is required. The operands evaluate to `8` and `-2` respectively, so the result is `6`"
   ]
  },
  {
   "cell_type": "code",
   "execution_count": 6,
   "metadata": {},
   "outputs": [
    {
     "data": {
      "text/plain": [
       "6"
      ]
     },
     "execution_count": 6,
     "metadata": {},
     "output_type": "execute_result"
    }
   ],
   "source": [
    "(+ (* 2 4) (- 4 6))"
   ]
  },
  {
   "cell_type": "markdown",
   "metadata": {},
   "source": [
    "This is the first example of a special form. Define does not evaluate either `a` or the primitive `3`, but instead creates a new symbol in the environment called `a`, whose definition is the primitive `3`. This result is not accompanied by any output, but does affect our use of the symbol `a` in future expressions."
   ]
  },
  {
   "cell_type": "code",
   "execution_count": 7,
   "metadata": {},
   "outputs": [],
   "source": [
    "(define a 3)"
   ]
  },
  {
   "cell_type": "markdown",
   "metadata": {},
   "source": [
    "This expression defines a new symbol which is equal to the evaluation of the second operand, `(+ a 1)`, which is the same as the arithmetical expression `a + 1`, which is `4`."
   ]
  },
  {
   "cell_type": "code",
   "execution_count": 8,
   "metadata": {},
   "outputs": [],
   "source": [
    "(define b (+ a 1))"
   ]
  },
  {
   "cell_type": "markdown",
   "metadata": {},
   "source": [
    "This expression retrieves the values of `a` and `b` from the environment, and uses them to evaluate first the operand `(* a b)` to `(* 3 4)`, which is `12`, and then the complete expression `(+ a b 12)`, which is `(+ 3 4 12)`, evaluates to `19`."
   ]
  },
  {
   "cell_type": "code",
   "execution_count": 9,
   "metadata": {},
   "outputs": [
    {
     "data": {
      "text/plain": [
       "19"
      ]
     },
     "execution_count": 9,
     "metadata": {},
     "output_type": "execute_result"
    }
   ],
   "source": [
    "(+ a b (* a b))"
   ]
  },
  {
   "cell_type": "markdown",
   "metadata": {},
   "source": [
    "This expression is a predicate, since it evaluates to \"false\", which in Scheme is represented by the symbol `#f`"
   ]
  },
  {
   "cell_type": "code",
   "execution_count": 10,
   "metadata": {},
   "outputs": [
    {
     "data": {
      "text/plain": [
       "#f"
      ]
     },
     "execution_count": 10,
     "metadata": {},
     "output_type": "execute_result"
    }
   ],
   "source": [
    "(= a b)"
   ]
  },
  {
   "cell_type": "markdown",
   "metadata": {},
   "source": [
    "Now we have our second special form: `if`. This expression first evaluates the predicate to see that `b` is greater than `a`, and `b` is less than `b * a`, and since the predicate is true, the consequent is then evaluated to `b`, which is `4`, so the value of the whole expression is `4`."
   ]
  },
  {
   "cell_type": "code",
   "execution_count": 11,
   "metadata": {},
   "outputs": [
    {
     "data": {
      "text/plain": [
       "4"
      ]
     },
     "execution_count": 11,
     "metadata": {},
     "output_type": "execute_result"
    }
   ],
   "source": [
    "(if (and (> b a) (< b (* a b)))\n",
    "    b\n",
    "    a)"
   ]
  },
  {
   "cell_type": "markdown",
   "metadata": {},
   "source": [
    "This expression uses the special form `cond`. The first predicate is evaluated, and since `a` is not equal to `4`, evaluation continues. The second predicate is evaluated, and found to be true, so the value of the whole expression is equal to the evaluation of the second consequent, which is equal to `16`"
   ]
  },
  {
   "cell_type": "code",
   "execution_count": 12,
   "metadata": {},
   "outputs": [
    {
     "data": {
      "text/plain": [
       "16"
      ]
     },
     "execution_count": 12,
     "metadata": {},
     "output_type": "execute_result"
    }
   ],
   "source": [
    "(cond ((= a 4) 6)\n",
    "      ((= b 4) (+ 6 7 a))\n",
    "      (else 25))"
   ]
  },
  {
   "cell_type": "markdown",
   "metadata": {},
   "source": [
    "This expression uses the special form `if` as an operand. The `if` statement evaluates to `b`, and then `b` is added to `2` to get `6`"
   ]
  },
  {
   "cell_type": "code",
   "execution_count": 13,
   "metadata": {},
   "outputs": [
    {
     "data": {
      "text/plain": [
       "6"
      ]
     },
     "execution_count": 13,
     "metadata": {},
     "output_type": "execute_result"
    }
   ],
   "source": [
    "(+ 2 (if (> b a) b a))"
   ]
  },
  {
   "cell_type": "markdown",
   "metadata": {},
   "source": [
    "Similar to the above, the `cond` expression evaluates to `b`, which is the only consequent in the `cond` expression to be evaluated. This result is multiplied by `a + 1` to get `16`"
   ]
  },
  {
   "cell_type": "code",
   "execution_count": 14,
   "metadata": {},
   "outputs": [
    {
     "data": {
      "text/plain": [
       "16"
      ]
     },
     "execution_count": 14,
     "metadata": {},
     "output_type": "execute_result"
    }
   ],
   "source": [
    "(* (cond ((> a b) a)\n",
    "         ((< a b) b)\n",
    "         (else -1))\n",
    "   (+ a 1))"
   ]
  },
  {
   "cell_type": "markdown",
   "metadata": {},
   "source": [
    "## Exercise 1.2\n",
    "This problem asks us to go from standard arithmetic notation to prefix notation. In order to do so, we must use the order of operations. The fraction bar is the least tightly bound operator, so it goes first. The groupings in the numerator are all unnecessary, since addition is associative. On the bottom, the multiplication binds less tightly than the groupings, so the two subtractions must take place first, i.e. the multiplication comes first in prefix notation.\n",
    "\n",
    "I am reading the expression to be: $$ \\frac{5 + 4 + (2 - (3 - (6 + \\frac{4}{5}))}{3 (6 - 2) (2 - 7)} $$\n",
    "\n",
    "To check our work, we note that the arithmetic expression evaluates to: \n",
    "$$ \\frac{5 + 4 + 2 - (3 - (6 + 4/5))}{3(6 - 2)(2 - 7)} $$ \n",
    "\n",
    "$$ = \\frac{-37}{150} $$ \n",
    "\n",
    "$$ = -0.247 $$"
   ]
  },
  {
   "cell_type": "code",
   "execution_count": 15,
   "metadata": {},
   "outputs": [
    {
     "data": {
      "text/plain": [
       "-37/150"
      ]
     },
     "execution_count": 15,
     "metadata": {},
     "output_type": "execute_result"
    }
   ],
   "source": [
    "(/ (- (+ 5 4 2)\n",
    "      (- 3 (+ 6 (/ 4 5))))\n",
    "   (* 3\n",
    "      (- 6 2)\n",
    "      (- 2 7)))"
   ]
  },
  {
   "cell_type": "markdown",
   "metadata": {},
   "source": [
    "## Exercise 1.3\n",
    "The procedure below is to return the sum of the squares of the larger two of a group of three numbers. I use the procedure `sum-of-squares` from the text."
   ]
  },
  {
   "cell_type": "code",
   "execution_count": 16,
   "metadata": {},
   "outputs": [],
   "source": [
    "(define (square x) (* x x))\n",
    "(define (sum-of-squares x y)\n",
    "  (+ (square x) (square y)))\n",
    "\n",
    "(define (f a b c) \n",
    "  (cond ((and (<= a b) (<= a c)) (sum-of-squares b c))\n",
    "        ((and (<= b a) (<= b c)) (sum-of-squares a c))\n",
    "        ((and (<= c a) (<= c b)) (sum-of-squares a b))))"
   ]
  },
  {
   "cell_type": "markdown",
   "metadata": {},
   "source": [
    "As an example, the sum-of-squares of `3` and `4` is `25`, and so `(f 2 3 4)` should return `25`"
   ]
  },
  {
   "cell_type": "code",
   "execution_count": 17,
   "metadata": {},
   "outputs": [
    {
     "data": {
      "text/plain": [
       "25"
      ]
     },
     "execution_count": 17,
     "metadata": {},
     "output_type": "execute_result"
    }
   ],
   "source": [
    "(f 2 3 4)"
   ]
  },
  {
   "cell_type": "markdown",
   "metadata": {},
   "source": [
    "## Exercise 1.4\n",
    "I use the definition of `abs` from the chapter to test the behavior of the following routine according to the semanics. The expectation is that the `if` statement chooses the operator based on the value of `b`, and then uses the resulting operator to evaluate the whole expression. Thus we expect the predicate to evaluate to \"true\", which in scheme is represented as `#t`"
   ]
  },
  {
   "cell_type": "code",
   "execution_count": 18,
   "metadata": {},
   "outputs": [
    {
     "data": {
      "text/plain": [
       "#t"
      ]
     },
     "execution_count": 18,
     "metadata": {},
     "output_type": "execute_result"
    }
   ],
   "source": [
    "(define (abs x)\n",
    "  (if (< x 0)\n",
    "      (- x)\n",
    "      x))\n",
    "\n",
    "(define (a-plus-abs-b a b)\n",
    "  ((if (> b 0) + -) a b))\n",
    "\n",
    "(= (+ 1 (abs -2))\n",
    "   (a-plus-abs-b 1 -2))"
   ]
  },
  {
   "cell_type": "markdown",
   "metadata": {},
   "source": [
    "## Exercise 1.5\n",
    "In either evaluation order, we are to treat the `if` statement as evaluating the same. Thus in either evaluation order, the `if` statement will find the condition to be true, and evaluate to the consequent, or `0`. \n",
    "\n",
    "The difference is, in an __applicative order__ interpreter, the operands of `test` will be evaluated, and `p` will be treated as a procedure with no arguments, which evaluates to itself. This will result in infinite recursion. In a __normal order__ interpreter, the two expressions (`0` and `(p)`), will be substituted into the original definition, and since the `if` statement does not evaluate the alternative, the statement `p` will never be evaluated."
   ]
  },
  {
   "cell_type": "code",
   "execution_count": 19,
   "metadata": {},
   "outputs": [],
   "source": [
    "(define (p) (p))\n",
    "\n",
    "(define (test x y)\n",
    "  (if (= x 0)\n",
    "      0\n",
    "      y))"
   ]
  },
  {
   "cell_type": "markdown",
   "metadata": {},
   "source": [
    "The test procedure is shown here to work with two integers, showing that it is in fact the definition of `(p)` which causes the infinite loop to occure when `test` is evaluated. That is, the problem would occur with any procedure evaluated in __applicative order__."
   ]
  },
  {
   "cell_type": "code",
   "execution_count": 20,
   "metadata": {},
   "outputs": [
    {
     "data": {
      "text/plain": [
       "0"
      ]
     },
     "execution_count": 20,
     "metadata": {},
     "output_type": "execute_result"
    }
   ],
   "source": [
    "(test 0 1)"
   ]
  },
  {
   "cell_type": "markdown",
   "metadata": {},
   "source": [
    "In the following code, `(p)` is quoted (which refers to the list containing the symbol `p` rather than the procedure `(p)` with no arguments), since the scheme interpreter uses __applicative order__, and the result would be an infinite loop which would cause errors with the Jupyter notebook."
   ]
  },
  {
   "cell_type": "code",
   "execution_count": 21,
   "metadata": {},
   "outputs": [
    {
     "data": {
      "text/plain": [
       "0"
      ]
     },
     "execution_count": 21,
     "metadata": {},
     "output_type": "execute_result"
    }
   ],
   "source": [
    "(test 0 '(p))"
   ]
  },
  {
   "cell_type": "markdown",
   "metadata": {},
   "source": [
    "## Procedures vs. Functions\n",
    "The difference here is explained: that a function is declarative, while a procedure is effective. In order to be a procedure, an expression must follow some process to find the answer, rather than simply describe the answer to a question. As an example, the following are given as a definition of the square root."
   ]
  },
  {
   "cell_type": "code",
   "execution_count": 22,
   "metadata": {},
   "outputs": [
    {
     "data": {
      "text/plain": [
       "3.00009155413138"
      ]
     },
     "execution_count": 22,
     "metadata": {},
     "output_type": "execute_result"
    }
   ],
   "source": [
    "(define (sqrt-iter guess x)\n",
    "  (if (good-enough? guess x)\n",
    "      guess\n",
    "      (sqrt-iter (improve guess x)\n",
    "                 x)))\n",
    "\n",
    "(define (improve guess x)\n",
    "  (average guess (/ x guess)))\n",
    "\n",
    "(define (average x y)\n",
    "  (/ (+ x y) 2))\n",
    "\n",
    "(define (good-enough? guess x)\n",
    "  (< (abs (- (square guess) x)) 0.001))\n",
    "\n",
    "(define (sqrt x)\n",
    "  (sqrt-iter 1.0 x))\n",
    "\n",
    "(sqrt 9)"
   ]
  },
  {
   "cell_type": "markdown",
   "metadata": {},
   "source": [
    "## Exercise 1.6\n",
    "Alyssa's `new-if` procedure seems at first glance to work just like `if`. In fact, if the logic inside of `new-if` were used in place of `if`, then it would work exactly the same. The problem with the `new-if` construct is parallel to the issue in Exercise 1.5 - the __applicative order__ evaluation causes both the consequent and the alternative to be evaluated before being passed to the `new-if` procedure. This causes our `square-root` procedure to infinitely evaluate the expression `(sqrt-iter (improve guess x) x))`.\n",
    "\n",
    "To demonstrate this, I'll show that using the `cond` logic works. However, demonstrating the infinite regress of the `new-if` statement would break the notebook, so it will be \"left as an exercise to the reader\"."
   ]
  },
  {
   "cell_type": "code",
   "execution_count": 23,
   "metadata": {},
   "outputs": [
    {
     "data": {
      "text/plain": [
       "5"
      ]
     },
     "execution_count": 23,
     "metadata": {},
     "output_type": "execute_result"
    }
   ],
   "source": [
    "(define (new-if predicate then-clause else-clause)\n",
    "  (cond (predicate then-clause)\n",
    "        (else else-clause)))\n",
    "\n",
    "(new-if (= 2 3) 0 5)"
   ]
  },
  {
   "cell_type": "code",
   "execution_count": 24,
   "metadata": {},
   "outputs": [
    {
     "data": {
      "text/plain": [
       "0"
      ]
     },
     "execution_count": 24,
     "metadata": {},
     "output_type": "execute_result"
    }
   ],
   "source": [
    "(new-if (= 1 1) 0 5)"
   ]
  },
  {
   "cell_type": "markdown",
   "metadata": {},
   "source": [
    "It can be seen that the `cond` statement below is equivalent to the definition of `new-if`, and the problem arises from the application of `new-if`, rather than the logic or evaluation order of `cond`.\n",
    "\n",
    "Using __normal order__ evaluation, we would find that applying `new-if` to the operands of:"
   ]
  },
  {
   "cell_type": "raw",
   "metadata": {},
   "source": [
    "(define (sqrt-iter guess x)\n",
    "  (new-if (good-enough? guess x)\n",
    "          guess\n",
    "          (sqrt-iter (improve guess x)\n",
    "                     x)))"
   ]
  },
  {
   "cell_type": "markdown",
   "metadata": {},
   "source": [
    "would result in the following bindings:"
   ]
  },
  {
   "cell_type": "raw",
   "metadata": {},
   "source": [
    "(good-enough? guess x)              => predicate\n",
    "guess                               => then-clause\n",
    "(sqrt-iter (improve guess x) x)))   => else-clause"
   ]
  },
  {
   "cell_type": "markdown",
   "metadata": {},
   "source": [
    "which is where the following expression comes from."
   ]
  },
  {
   "cell_type": "code",
   "execution_count": 25,
   "metadata": {},
   "outputs": [
    {
     "data": {
      "text/plain": [
       "3.00009155413138"
      ]
     },
     "execution_count": 25,
     "metadata": {},
     "output_type": "execute_result"
    }
   ],
   "source": [
    "(define (sqrt-iter guess x)\n",
    "  (cond ((good-enough? guess x) guess)\n",
    "        (else (sqrt-iter (improve guess x) x))))\n",
    "\n",
    "(sqrt 9)"
   ]
  },
  {
   "cell_type": "markdown",
   "metadata": {},
   "source": [
    "## Exercise 1.8\n",
    "In order to adapt our `sqrt` procedure to compute cubed roots, the only aspect which needs to change is the `improve` procedure. Since we will implement Newton's method more generally as a later problem according to the text, I'll just re-write `improve` and `sqrt-iter` and `sqrt` here for cube roots.\n",
    "\n",
    "This is really just an exercise in prefix notation, as well as a chance to work out the logic of the `sqrt` procedure for oneself."
   ]
  },
  {
   "cell_type": "code",
   "execution_count": 26,
   "metadata": {},
   "outputs": [
    {
     "data": {
      "text/plain": [
       "3.0000005410641766"
      ]
     },
     "execution_count": 26,
     "metadata": {},
     "output_type": "execute_result"
    }
   ],
   "source": [
    "(define (cube x) (* x x x))\n",
    "\n",
    "(define (cbrt-iter guess x)\n",
    "  (if (good-enough-cbrt? guess x)\n",
    "      guess\n",
    "      (cbrt-iter (improve-cbrt guess x)\n",
    "                 x)))\n",
    "\n",
    "(define (good-enough-cbrt? guess x)\n",
    "  (< (abs (- (cube guess) x)) 0.001))\n",
    "\n",
    "(define (improve-cbrt guess x)\n",
    "  (/ (+ (/ x\n",
    "           (square guess))\n",
    "        (* 2 guess)) \n",
    "     3))\n",
    "\n",
    "(define (cbrt x)\n",
    "  (cbrt-iter 1.0 x))\n",
    "\n",
    "(cbrt 27)"
   ]
  },
  {
   "cell_type": "markdown",
   "metadata": {},
   "source": [
    "## Recursion\n",
    "The remainder of the chapter explains the basics of recursion. One noteworthy abstraction is the procedure graph, which shows the procedures composing `sqrt`, the procedures composing those, and so on. This shows that each procedure is build of smaller components, which we do not need to completely understand to be able to comprehend the process of evaluating the `sqrt` procedure.\n",
    "\n",
    "__Bound__ and __free__ variables are also discussed. __Bound__ variables are those which are declared in the first operand of the `define` special form. These have a certain value in the scope of the procedure which is determined at the time the procedure is called. __Free__ variables, on the other hand, are not set to a determined value, but instead are defined by the larger environment, or scope. For example, in `good-enough?`, `abs` is defined above. It is also noteworthy that we can name a __bound__ variable in such a way as to co-opt a named variable in a larger scope without affecting the accessors of that variable outside our current scope.\n",
    "\n",
    "Building on this idea, we can use what is called __block structure__, where we put definitions of helper procedures inside the parent procedure. In this case, the eample given is:"
   ]
  },
  {
   "cell_type": "code",
   "execution_count": 27,
   "metadata": {},
   "outputs": [
    {
     "data": {
      "text/plain": [
       "3.00009155413138"
      ]
     },
     "execution_count": 27,
     "metadata": {},
     "output_type": "execute_result"
    }
   ],
   "source": [
    "(define (sqrt x)\n",
    "  (define (sqare x) \n",
    "    (* x x))\n",
    "  (define (average x y)\n",
    "    (/ (+ x y) 2))\n",
    "  (define (good-enough? guess x)\n",
    "    (< (abs (- (square guess) x)) 0.001))\n",
    "  (define (improve guess x)\n",
    "    (average guess (/ x guess)))\n",
    "  (define (sqrt-iter guess x)\n",
    "    (if (good-enough? guess x)\n",
    "        guess\n",
    "        (sqrt-iter (improve guess x) x)))\n",
    "  (sqrt-iter 1.0 x))\n",
    "\n",
    "(sqrt 9)"
   ]
  },
  {
   "cell_type": "markdown",
   "metadata": {},
   "source": [
    "Next, it is observed that the variable `x` has the same meaning throughout the procedure `sqrt`'s definition. Therefore the concept of __lexical scoping__ is introduced, where if a __bound__ variable is going to have the same value as its value in the parent scope, we can simply remove the __bound__ variable from the parameters list and let this value be used in the child definitions, making it a __free__ variable in the child procedure while remaining __bound__ by the parent."
   ]
  },
  {
   "cell_type": "code",
   "execution_count": 28,
   "metadata": {},
   "outputs": [
    {
     "data": {
      "text/plain": [
       "3.00009155413138"
      ]
     },
     "execution_count": 28,
     "metadata": {},
     "output_type": "execute_result"
    }
   ],
   "source": [
    "(define (sqrt x)\n",
    "  (define (square y)\n",
    "    (* y y))\n",
    "  (define (average a b)\n",
    "    (/ (+ a b) 2))\n",
    "  (define (good-enough? guess)\n",
    "    (< (abs (- (square guess) x)) 0.001))\n",
    "  (define (improve guess)\n",
    "    (average guess (/ x guess)))\n",
    "  (define (sqrt-iter guess)\n",
    "    (if (good-enough? guess)\n",
    "        guess\n",
    "        (sqrt-iter (improve guess))))\n",
    "  (sqrt-iter 1.0))\n",
    "\n",
    "(sqrt 9)"
   ]
  },
  {
   "cell_type": "markdown",
   "metadata": {},
   "source": [
    "I would like to improve on this definition, which doesn't quite match the book so that it may definitely be run without necessarily running the above definitions of `average` and `square`, by fully binding the variables `guess` and `x` in the definitions of `average` and `square`."
   ]
  },
  {
   "cell_type": "code",
   "execution_count": 29,
   "metadata": {},
   "outputs": [
    {
     "data": {
      "text/plain": [
       "3.00009155413138"
      ]
     },
     "execution_count": 29,
     "metadata": {},
     "output_type": "execute_result"
    }
   ],
   "source": [
    "(define (sqrt x)\n",
    "  (define (good-enough? guess)\n",
    "    (define (square y)\n",
    "      (* y y))\n",
    "    (< (abs (- (square guess) x)) 0.001))\n",
    "  (define (improve guess)\n",
    "    (define (average a b)\n",
    "      (/ (+ a b) 2))\n",
    "    (average guess (/ x guess)))\n",
    "  (define (sqrt-iter guess)\n",
    "    (if (good-enough? guess)\n",
    "        guess\n",
    "        (sqrt-iter (improve guess))))\n",
    "  (sqrt-iter 1.0))\n",
    "\n",
    "(sqrt 9)"
   ]
  },
  {
   "cell_type": "markdown",
   "metadata": {},
   "source": [
    "## Linear Recursion and Iteration\n",
    "The difference between __linear recursion__ and __iteration__ is that the returned value from a __linear recursive__ procedure is different on each step, so the full call pattern (which is the state) is pushed onto the call stack, which can cause buffer overflows. With __iteration__, the state of the procedure is contained in the operands, so the values do not need to be pushed on to the stack with successive calls.\n",
    "\n",
    "A __linear recursive__ procedure definition of `factorial` is below."
   ]
  },
  {
   "cell_type": "code",
   "execution_count": 30,
   "metadata": {},
   "outputs": [
    {
     "data": {
      "text/plain": [
       "720"
      ]
     },
     "execution_count": 30,
     "metadata": {},
     "output_type": "execute_result"
    }
   ],
   "source": [
    "(define (factorial n)\n",
    "  (if (= n 1)\n",
    "      1\n",
    "      (* n (factorial (- n 1)))))\n",
    "\n",
    "(factorial 6)"
   ]
  },
  {
   "cell_type": "markdown",
   "metadata": {},
   "source": [
    "The below definition, on the other hand, is an __iterative__ procedure."
   ]
  },
  {
   "cell_type": "code",
   "execution_count": 31,
   "metadata": {},
   "outputs": [
    {
     "data": {
      "text/plain": [
       "720"
      ]
     },
     "execution_count": 31,
     "metadata": {},
     "output_type": "execute_result"
    }
   ],
   "source": [
    "(define (factorial n)\n",
    "  (fact-iter 1 1 n))\n",
    "\n",
    "(define (fact-iter acc count n)\n",
    "  (if (> count n)\n",
    "      acc\n",
    "      (fact-iter (* acc count)\n",
    "                 (+ count 1)\n",
    "                 n)))\n",
    "\n",
    "(factorial 6)"
   ]
  },
  {
   "cell_type": "markdown",
   "metadata": {},
   "source": [
    "This new definition of factorial will not buffer overflow because of Scheme's use of __tail recursion__. This simply means that the implementation of Scheme allows for __iterative__ _processes_ to be implemented as __recursive__ _procedures_, without adding frames to the call stack on each iteration."
   ]
  },
  {
   "cell_type": "markdown",
   "metadata": {},
   "source": [
    "## Exercise 1.9\n",
    "The two procedures are shown below, with helper methods. The procedures here are re-named `new+` and `new+tail` to avoid errors due to re-defining the `+` procedure."
   ]
  },
  {
   "cell_type": "code",
   "execution_count": 32,
   "metadata": {},
   "outputs": [],
   "source": [
    "(define (inc x)\n",
    "  (+ x 1))\n",
    "(define (dec x)\n",
    "  (- x 1))\n",
    "\n",
    "(define (new+ a b)\n",
    "  (if (= a 0)\n",
    "      b\n",
    "      (inc (new+ (dec a) b))))\n",
    "\n",
    "(define (new+tail a b)\n",
    "  (if (= a 0)\n",
    "      b\n",
    "      (new+tail (dec a) (inc b))))"
   ]
  },
  {
   "cell_type": "markdown",
   "metadata": {},
   "source": [
    "The processes generated by these procedures are shown here."
   ]
  },
  {
   "cell_type": "raw",
   "metadata": {},
   "source": [
    "(new+ 2 3)\n",
    "(inc (new+ (dec 2) 3))\n",
    "(inc (inc (new+ (dec 1) 3))\n",
    "(inc (inc (new+ 0 3))\n",
    "(inc (inc 3))\n",
    "(inc 4)\n",
    "5"
   ]
  },
  {
   "cell_type": "markdown",
   "metadata": {},
   "source": [
    "This process is __linear recursive__, since the state of the addition is hidden in the interpreter. Each time the procedure is called, its result is evaluated as an operand of the calling procedure."
   ]
  },
  {
   "cell_type": "raw",
   "metadata": {},
   "source": [
    "(new+tail 2 3)\n",
    "(new+tail (dec 2) (inc 3))\n",
    "(new+tail (dec 1) (inc 4))\n",
    "5"
   ]
  },
  {
   "cell_type": "markdown",
   "metadata": {},
   "source": [
    "This process is __iterative__, because the procedure is not called in the operands, but the procedure returns the same value returned by itself, with different operands. This is what is meant in the text by \"The state is contained in the operands of the procedure.\""
   ]
  },
  {
   "cell_type": "markdown",
   "metadata": {},
   "source": [
    "## Exercise 1.10\n",
    "The procedure for Ackerman's function from the book is below."
   ]
  },
  {
   "cell_type": "code",
   "execution_count": 33,
   "metadata": {},
   "outputs": [],
   "source": [
    "(define (A x y)\n",
    "  (cond ((= y 0) 0)\n",
    "        ((= x 0) (* 2 y))\n",
    "        ((= y 1) 2)\n",
    "        (else (A (- x 1)\n",
    "                 (A x (- y 1))))))"
   ]
  },
  {
   "cell_type": "markdown",
   "metadata": {},
   "source": [
    "The first expression from the exercise evaluates to 1024. The process illustration, as in the book is:"
   ]
  },
  {
   "cell_type": "raw",
   "metadata": {},
   "source": [
    "(A 1 10)\n",
    "(A 0 (A 1 9))\n",
    "(A 0 (A 0 (A 1 8)))\n",
    "(A 0 (A 0 (A 0 (A 1 7))))\n",
    "(A 0 (A 0 (A 0 (A 0 (A 1 6)))))\n",
    "(A 0 (A 0 (A 0 (A 0 (A 0 (A 1 5))))))\n",
    "(A 0 (A 0 (A 0 (A 0 (A 0 (A 0 (A 1 4)))))))\n",
    "(A 0 (A 0 (A 0 (A 0 (A 0 (A 0 (A 0 (A 1 3))))))))\n",
    "(A 0 (A 0 (A 0 (A 0 (A 0 (A 0 (A 0 (A 0 (A 1 2)))))))))\n",
    "(A 0 (A 0 (A 0 (A 0 (A 0 (A 0 (A 0 (A 0 (A 0 (A 1 1))))))))))\n",
    "(A 0 (A 0 (A 0 (A 0 (A 0 (A 0 (A 0 (A 0 (A 0 2)))))))))\n",
    "(A 0 (A 0 (A 0 (A 0 (A 0 (A 0 (A 0 (A 0 4)))))))\n",
    "(A 0 (A 0 (A 0 (A 0 (A 0 (A 0 (A 0 8))))))\n",
    "(A 0 (A 0 (A 0 (A 0 (A 0 (A 0 16)))))\n",
    "(A 0 (A 0 (A 0 (A 0 (A 0 32))))\n",
    "(A 0 (A 0 (A 0 (A 0 64)))\n",
    "(A 0 (A 0 (A 0 128)))\n",
    "(A 0 (A 0 256))\n",
    "(A 0 512)"
   ]
  },
  {
   "cell_type": "code",
   "execution_count": 34,
   "metadata": {},
   "outputs": [
    {
     "data": {
      "text/plain": [
       "1024"
      ]
     },
     "execution_count": 34,
     "metadata": {},
     "output_type": "execute_result"
    }
   ],
   "source": [
    "(A 1 10)"
   ]
  },
  {
   "cell_type": "markdown",
   "metadata": {},
   "source": [
    "The second expression evaluates to 65536. The process illustartion is as follows, with steps that have already been computed in the above section omitted."
   ]
  },
  {
   "cell_type": "raw",
   "metadata": {},
   "source": [
    "(A 2 4)\n",
    "(A 1 (A 2 3))\n",
    "(A 1 (A 1 (A 2 2)))\n",
    "(A 1 (A 1 (A 1 (A 2 1))))\n",
    "(A 1 (A 1 (A 1 2)))\n",
    "(A 1 (A 1 (A 0 (A 1 1))))\n",
    "(A 1 (A 1 (A 0 2)))\n",
    "(A 1 (A 1 4))\n",
    "...\n",
    "(A 1 16)\n",
    "(A 0 (A 1 15))\n",
    "(A 0 (A 0 (A 1 14)))\n",
    "(A 0 (A 0 (A 0 (A 1 13))))\n",
    "(A 0 (A 0 (A 0 (A 0 (A 1 12)))))\n",
    "(A 0 (A 0 (A 0 (A 0 (A 0 (A 1 11))))))\n",
    "(A 0 (A 0 (A 0 (A 0 (A 0 (A 0 (A 1 10)))))))\n",
    "...\n",
    "(A 0 (A 0 (A 0 (A 0 (A 0 (A 0 1024))))))\n",
    "(A 0 (A 0 (A 0 (A 0 (A 0 2048)))))\n",
    "(A 0 (A 0 (A 0 (A 0 4096))))\n",
    "(A 0 (A 0 (A 0 8192)))\n",
    "(A 0 (A 0 16384))\n",
    "(A 0 32768)\n",
    "65536"
   ]
  },
  {
   "cell_type": "code",
   "execution_count": 35,
   "metadata": {},
   "outputs": [
    {
     "data": {
      "text/plain": [
       "65536"
      ]
     },
     "execution_count": 35,
     "metadata": {},
     "output_type": "execute_result"
    }
   ],
   "source": [
    "(A 2 4)"
   ]
  },
  {
   "cell_type": "markdown",
   "metadata": {},
   "source": [
    "Doing some research on the Ackermann function, it seems that it computes a meta-multiplication by `2`. That is, \n",
    "\n",
    "`(A 0 n)` $ = 2*n $, which is `f`\n",
    "\n",
    "`(A 1 n)` $ = 2*2$ n times $ = 2^n $, which if `g`\n",
    "\n",
    "`(A 2 n)` $ = 2^{{2^2}^{...}} $ n times, which we'll call: $ h(n) $, and which is `h` from the example\n",
    "\n",
    "`(A 3 n)` $ = h(h(...h(1))) $ n times"
   ]
  },
  {
   "cell_type": "markdown",
   "metadata": {},
   "source": [
    "Going off of this, we expect `(A 3 3)` to be $ h(h(h(1))) $, which would give us\n",
    "\n",
    "$$ = h(h(2)) $$\n",
    "\n",
    "$$ = h(2^2) $$\n",
    "\n",
    "$$ = h(4) $$\n",
    "\n",
    "$$ = 2^{2^{2^{2}}} $$\n",
    "\n",
    "$$ = 65536 $$\n",
    "\n",
    "... clearly this method of computation will get out of hand very quickly with increasing values of `x`."
   ]
  },
  {
   "cell_type": "code",
   "execution_count": 36,
   "metadata": {},
   "outputs": [
    {
     "data": {
      "text/plain": [
       "65536"
      ]
     },
     "execution_count": 36,
     "metadata": {},
     "output_type": "execute_result"
    }
   ],
   "source": [
    "(A 3 3)"
   ]
  },
  {
   "cell_type": "markdown",
   "metadata": {},
   "source": [
    "The next section covers __tree-recursion__, which is a recursive process whose procedure is a part of more than one operand in its own definition. The example given is `fib`."
   ]
  },
  {
   "cell_type": "code",
   "execution_count": 37,
   "metadata": {},
   "outputs": [
    {
     "data": {
      "text/plain": [
       "5"
      ]
     },
     "execution_count": 37,
     "metadata": {},
     "output_type": "execute_result"
    }
   ],
   "source": [
    "(define (fib n)\n",
    "  (cond ((= n 0) 0)\n",
    "        ((= n 1) 1)\n",
    "        (else (+ (fib (- n 1))\n",
    "                 (fib (- n 2))))))\n",
    "\n",
    "(fib 5)"
   ]
  },
  {
   "cell_type": "markdown",
   "metadata": {},
   "source": [
    "Next is an example of a linear definition of `fib`, which takes advantage of the fact that we only need to track two numbers at a time to determine the next fibonacci number."
   ]
  },
  {
   "cell_type": "code",
   "execution_count": 38,
   "metadata": {},
   "outputs": [
    {
     "data": {
      "text/plain": [
       "5"
      ]
     },
     "execution_count": 38,
     "metadata": {},
     "output_type": "execute_result"
    }
   ],
   "source": [
    "(define (fib n)\n",
    "  (fib-iter 1 0 n))\n",
    "\n",
    "(define (fib-iter a b count)\n",
    "  (if (= count 0)\n",
    "      b\n",
    "      (fib-iter (+ a b) a (- count 1))))\n",
    "\n",
    "(fib 5)"
   ]
  },
  {
   "cell_type": "markdown",
   "metadata": {},
   "source": [
    "An example of a __tree-recursive__ process is given: how to count the number of ways to give change with a set of coins. The point made is that this __tree-recursive__ process is easy to demarcate, but it is difficult to find an __iterative__ process to do the same thing."
   ]
  },
  {
   "cell_type": "code",
   "execution_count": 39,
   "metadata": {},
   "outputs": [
    {
     "data": {
      "text/plain": [
       "292"
      ]
     },
     "execution_count": 39,
     "metadata": {},
     "output_type": "execute_result"
    }
   ],
   "source": [
    "(define (count-change amount)\n",
    "  (cc amount 5))\n",
    "(define (cc amount kinds-of-coins)\n",
    "  (cond ((= amount 0) 1)\n",
    "        ((or (< amount 0) (= kinds-of-coins 0)) 0)\n",
    "        (else (+ (cc amount\n",
    "                     (- kinds-of-coins 1))\n",
    "                 (cc (- amount\n",
    "                        (first-denomination kinds-of-coins))\n",
    "                     kinds-of-coins)))))\n",
    "(define (first-denomination kinds-of-coins)\n",
    "  (cond ((= kinds-of-coins 1) 1)\n",
    "        ((= kinds-of-coins 2) 5)\n",
    "        ((= kinds-of-coins 3) 10)\n",
    "        ((= kinds-of-coins 4) 25)\n",
    "        ((= kinds-of-coins 5) 50)))\n",
    "\n",
    "(count-change 100)"
   ]
  },
  {
   "cell_type": "markdown",
   "metadata": {},
   "source": [
    "## Exercise 1.11\n",
    "A recursive process for this function is easy to write a procedure for, since it basically means re-writing the formula in LISP.\n",
    "\n",
    "$ f(n) = n $ if $ n<3 $ and $ f(n) = f(n - 1) + 2f(n - 2) + 3f(n - 3) $ if $ n\\ge3 $"
   ]
  },
  {
   "cell_type": "code",
   "execution_count": 40,
   "metadata": {},
   "outputs": [
    {
     "data": {
      "text/plain": [
       "4"
      ]
     },
     "execution_count": 40,
     "metadata": {},
     "output_type": "execute_result"
    }
   ],
   "source": [
    "(define (f n)\n",
    "  (if (< n 3)\n",
    "      n\n",
    "      (+ (f (- n 1))\n",
    "         (* 2 (f (- n 2)))\n",
    "         (* 3 (f (- n 3))))))\n",
    "\n",
    "(f 3)"
   ]
  },
  {
   "cell_type": "markdown",
   "metadata": {},
   "source": [
    "An iterative process is somewhat more difficult. In order to capture the process, we can store the results of previous computations in accumulative operands."
   ]
  },
  {
   "cell_type": "code",
   "execution_count": 41,
   "metadata": {},
   "outputs": [
    {
     "data": {
      "text/plain": [
       "4"
      ]
     },
     "execution_count": 41,
     "metadata": {},
     "output_type": "execute_result"
    }
   ],
   "source": [
    "(define (f-iter n)\n",
    "  (if (< n 3)\n",
    "      n\n",
    "      (fi 2 1 0 3 n)))\n",
    "\n",
    "(define (fi fn-minus-1 fn-minus-2 fn-minus-3 acc n)\n",
    "  (define fn\n",
    "    (+ fn-minus-1\n",
    "         (* 2 fn-minus-2)\n",
    "         (* 3 fn-minus-3)))\n",
    "  (if (= acc n)\n",
    "      fn\n",
    "      (fi fn\n",
    "          fn-minus-1\n",
    "          fn-minus-2\n",
    "          (+ acc 1)\n",
    "          n)))\n",
    "\n",
    "(f-iter 3)"
   ]
  },
  {
   "cell_type": "code",
   "execution_count": 42,
   "metadata": {},
   "outputs": [
    {
     "data": {
      "text/plain": [
       "#t"
      ]
     },
     "execution_count": 42,
     "metadata": {},
     "output_type": "execute_result"
    }
   ],
   "source": [
    ";; Test to see that f and f-iter give the same results\n",
    "(and (= (f-iter -10)\n",
    "        (f -10))\n",
    "     (= (f-iter 4)\n",
    "        (f 4))\n",
    "     (= (f-iter 5)\n",
    "        (f 5))\n",
    "     (= (f-iter 6)\n",
    "        (f 6))\n",
    "     (= (f-iter 15)\n",
    "        (f 15)))"
   ]
  },
  {
   "cell_type": "markdown",
   "metadata": {},
   "source": [
    "Now we look for a procedure to define Pasca's Triangle. Since we need to determine most of the triangle above an element in order to determine that element, a recursive procedure makes sense. We'll use a __tree-recursive__ process since it reflects the definition of Pascal's Triangle and so will be much easier to write."
   ]
  },
  {
   "cell_type": "code",
   "execution_count": 43,
   "metadata": {},
   "outputs": [
    {
     "data": {
      "text/plain": [
       "6"
      ]
     },
     "execution_count": 43,
     "metadata": {},
     "output_type": "execute_result"
    }
   ],
   "source": [
    "(define (pascal row col)\n",
    "  (cond ((or (< col 1) (< row 1) (> col row)) 0)\n",
    "        ((or (= row 1) (= row 2)) 1)\n",
    "        (else (+ (pascal (- row 1) (- col 1))\n",
    "                 (pascal (- row 1) col)))))\n",
    "\n",
    "(pascal 5 3)"
   ]
  },
  {
   "cell_type": "markdown",
   "metadata": {},
   "source": [
    "## Exercise 1.13\n",
    "To prove that $ Fib(n) = round(\\frac{\\phi^n}{\\sqrt5}) $ using deduction, we first need to show, using the hint from the exercise, that $ Fib(1) = round(\\frac{\\phi}{\\sqrt5}) $ and $ Fib(2) = round(\\frac{\\phi^2}{\\sqrt5}) $."
   ]
  },
  {
   "cell_type": "code",
   "execution_count": 44,
   "metadata": {},
   "outputs": [
    {
     "data": {
      "text/plain": [
       "1.6180344478216817"
      ]
     },
     "execution_count": 44,
     "metadata": {},
     "output_type": "execute_result"
    }
   ],
   "source": [
    "(define phi (/ (+ (sqrt 5) 1) 2))\n",
    "(define psi (/ (- 1 (sqrt 5)) 2))\n",
    "\n",
    "phi"
   ]
  },
  {
   "cell_type": "code",
   "execution_count": 45,
   "metadata": {},
   "outputs": [
    {
     "data": {
      "text/plain": [
       "32"
      ]
     },
     "execution_count": 45,
     "metadata": {},
     "output_type": "execute_result"
    }
   ],
   "source": [
    "(define (pow x n)\n",
    "  (define (pow-iter x n acc)\n",
    "    (if (= n 0)\n",
    "        acc\n",
    "        (pow-iter x (- n 1) (* acc x))))\n",
    "  (pow-iter x n 1))\n",
    "\n",
    "(pow 2 5) ;; Expect 2^5 = 32"
   ]
  },
  {
   "cell_type": "code",
   "execution_count": 46,
   "metadata": {},
   "outputs": [
    {
     "data": {
      "text/plain": [
       "0.7236067059356593"
      ]
     },
     "execution_count": 46,
     "metadata": {},
     "output_type": "execute_result"
    }
   ],
   "source": [
    "(define (fib-approx n)\n",
    "  (/ (pow phi n) (sqrt 5)))\n",
    "\n",
    "(fib-approx 1)"
   ]
  },
  {
   "cell_type": "code",
   "execution_count": 47,
   "metadata": {},
   "outputs": [
    {
     "data": {
      "text/plain": [
       "1"
      ]
     },
     "execution_count": 47,
     "metadata": {},
     "output_type": "execute_result"
    }
   ],
   "source": [
    "(fib 1)"
   ]
  },
  {
   "cell_type": "code",
   "execution_count": 48,
   "metadata": {},
   "outputs": [
    {
     "data": {
      "text/plain": [
       "1.1708205768786706"
      ]
     },
     "execution_count": 48,
     "metadata": {},
     "output_type": "execute_result"
    }
   ],
   "source": [
    "(fib-approx 2)"
   ]
  },
  {
   "cell_type": "code",
   "execution_count": 49,
   "metadata": {},
   "outputs": [
    {
     "data": {
      "text/plain": [
       "1"
      ]
     },
     "execution_count": 49,
     "metadata": {},
     "output_type": "execute_result"
    }
   ],
   "source": [
    "(fib 2)"
   ]
  },
  {
   "cell_type": "markdown",
   "metadata": {},
   "source": [
    "So now we have shown that $ Fib(1) = round(\\frac{\\phi}{\\sqrt5}) $ and $ Fib(2) = round(\\frac{\\phi^2}{\\sqrt5}) $."
   ]
  },
  {
   "cell_type": "markdown",
   "metadata": {},
   "source": [
    "Now we must show that $ round(\\frac{\\phi^{n + 2}}{\\sqrt5}) = round(\\frac{\\phi^{n + 1}}{\\sqrt5}) + round(\\frac{\\phi^{n}}{\\sqrt5}) $. This is very difficult to do since we do not know what direction the $round$ operation will move the result, either up or down. So instead, we use the hint from the text again and show that the $\\phi$ and $\\psi$ definition of $Fib$ gives us the exact number."
   ]
  },
  {
   "cell_type": "code",
   "execution_count": 50,
   "metadata": {},
   "outputs": [
    {
     "data": {
      "text/plain": [
       "1.0"
      ]
     },
     "execution_count": 50,
     "metadata": {},
     "output_type": "execute_result"
    }
   ],
   "source": [
    "(define (fib-phi-psi n)\n",
    "  (/ (- (pow phi n)\n",
    "        (pow psi n))\n",
    "     (sqrt 5)))\n",
    "\n",
    "(fib-phi-psi 1)"
   ]
  },
  {
   "cell_type": "markdown",
   "metadata": {},
   "source": [
    "For the $ n = 1 $ case:\n",
    "\n",
    "$$ \\frac{1}{\\sqrt5} \\bigg( \\frac{1 + \\sqrt5}{2} - \\frac{1 - \\sqrt5}{2} \\bigg) $$\n",
    "\n",
    "$$ = \\frac{1}{\\sqrt5} * \\frac{2 * \\sqrt5}{2} $$\n",
    "\n",
    "$$ = 1 $$\n",
    "\n",
    "For the $ n = 2 $ case:\n",
    "\n",
    "$$ \\frac{1}{\\sqrt5} \\bigg( \\frac{(1 + \\sqrt5)(1 + \\sqrt5)}{2} - \\frac{(1 - \\sqrt5)(1 - \\sqrt5)}{2} \\bigg) $$\n",
    "\n",
    "$$ = \\frac{1}{\\sqrt5} \\bigg( \\frac{1 + 2\\sqrt5 + 5}{2} - \\frac{1 - 2\\sqrt5 + 5}{2} \\bigg)$$\n",
    "\n",
    "$$ = \\frac{1}{\\sqrt5} \\bigg( \\frac{4\\sqrt5}{2} \\bigg) $$\n",
    "\n",
    "For the $ n > 2 $ case:\n",
    "\n",
    "$$ \\frac{1}{\\sqrt5} \\bigg( \\frac{(1 + \\sqrt5)^{n + 2}}{2^{n+2}} - \\frac{(1 - \\sqrt5)^{n + 2}}{2^{n+2}} \\bigg) $$\n",
    "- expand out the square terms in the numerators\n",
    "\n",
    "$$ = \\frac{1}{\\sqrt5} \\bigg( \\frac{(1 + \\sqrt5)^n(1+2\\sqrt5+5)}{2^{n+2}} - \\frac{(1 - \\sqrt5)^n(1+2\\sqrt5+5)}{2^{n+2}} \\bigg) $$\n",
    "\n",
    "$$ = \\frac{1}{\\sqrt5} \\bigg( \\frac{(1 + \\sqrt5)^n(6+2\\sqrt5)}{2^{n+2}} - \\frac{(1 - \\sqrt5)^n(6+2\\sqrt5)}{2^{n+2}} \\bigg) $$\n",
    "- separate the 6 term in both numerators to $(4 + 2)$\n",
    "\n",
    "$$ = \\frac{1}{\\sqrt5} \\bigg( \\frac{4(1 + \\sqrt5)^n - 4(1 - \\sqrt5)^n}{2^{n+2}} + \\frac{(1 + \\sqrt5)^n(2+2\\sqrt5) - (1 - \\sqrt5)^n(2+2\\sqrt5)}{2^{n+2}} \\bigg) $$\n",
    "- now partially factor the denominators\n",
    "\n",
    "$$ = \\frac{1}{\\sqrt5} \\bigg( \\frac{4((1 + \\sqrt5)^n - (1 - \\sqrt5)^n)}{4*2^n} + \\frac{2(1 + \\sqrt5)^n(1+1\\sqrt5) - 2(1 - \\sqrt5)^n(1+1\\sqrt5)}{2*2^{n+1}} \\bigg) $$\n",
    "\n",
    "$$ = \\frac{1}{\\sqrt5} \\bigg( \\frac{(1 + \\sqrt5)^n - (1 - \\sqrt5)^n}{2^n} \\frac{(1 + \\sqrt5)^{n+1} - (1 - \\sqrt5)^{n+1}}{2^{n+1}} \\bigg) $$\n",
    "\n",
    "$$ = \\frac{1}{\\sqrt5} \\bigg( (\\phi^n - \\psi^n) + (\\phi^{n+1} - \\psi^{n+1}) \\bigg) $$\n",
    "\n",
    "$$ = \\frac{(\\phi^n - \\psi^n)}{\\sqrt5} + \\frac{(\\phi^{n+1} - \\psi^{n+1})}{\\sqrt5} $$\n",
    "\n",
    "This is the definition of the Fibonacci sequence, and so by deduction, this definition holds for $ n \\ge 1$."
   ]
  },
  {
   "cell_type": "markdown",
   "metadata": {},
   "source": [
    "## Exercise 1.14\n",
    "\n",
    "The process diagram of the count-change process is:"
   ]
  },
  {
   "cell_type": "raw",
   "metadata": {},
   "source": [
    "(count-change 11)\n",
    "(cc 11 5)\n",
    "(+ (cc 11 4) (cc -39 5))\n",
    "(+ (+ (cc 11 3) (cc -14 4)) 0)\n",
    "(+ (+ (+ (cc 11 2) (cc 1 3)) 0) 0)\n",
    "(+ (+ (+ (+ (cc 11 1) (cc 6 2)) (+ (cc 1 2) (cc -9 3))) 0) 0)\n",
    "(+ (+ (+ (+ (+ (cc 11 0) (cc 10 1)) (+ (cc 6 1) (cc 1 2))) (+ (+ (cc 1 1) (cc -4 2)) 0)) 0) 0)\n",
    "(+ (+ (+ (+ (+ 0 (+ (cc 10 0) (cc 9 1))) (+ (+ (cc 6 0) (cc 5 1)) (+ (cc 1 1) (cc -4 2)))) (+ (+ (cc 1 0) (cc 0 1)) 0)) 0) 0)\n",
    "(+ (+ (+ (+ (+ 0 (+ 0 (+ (cc 9 0) (cc 8 1)))) (+ (+ (+ 0 (+ (cc 5 0) (cc 4 1))) (+ (+ (cc 1 0) (cc 0 1)) 0)))) (+ (+ 0 1) 0)) 0) 0)\n",
    "(+ (+ (+ (+ (+ 0 (+ 0 (+ 0 (+ (cc 8 0) (cc 7 1))))) (+ (+ 0 (+ 0 (+ (cc 4 0) (cc 3 1)))) (+ 1 0))) (+ 1 0)) 0) 0)\n",
    "(+ (+ (+ (+ (+ 0 (+ 0 (+ 0 (+ 0 (+ (cc 7 0) (cc 6 1)))))) (+ (+ 0 (+ 0 (+ 0 (+ (cc 3 0) (cc 2 1))))) 1)) 1) 0) 0)\n",
    "(+ (+ (+ (+ (+ 0 (+ 0 (+ 0 (+ 0 (+ 0 (+ (cc 6 0) (cc 5 1))))))) (+ (+ 0 (+ 0 (+ 0 (+ 0 (+ (cc 2 0) (cc 1 1)))))) 1)) 1) 0) 0)\n",
    "(+ (+ (+ (+ (+ 0 (+ 0 (+ 0 (+ 0 (+ 0 (+ 0 (+ (cc 5 0) (cc 4 1)))))))) (+ (+ 0 (+ 0 (+ 0 (+ 0 (+ 0 (+ (cc 1 0) (cc 0 1))))))) 1)) 1) 0) 0)\n",
    "(+ (+ (+ (+ (+ 0 (+ 0 (+ 0 (+ 0 (+ 0 (+ 0 (+ 0 (+ (cc 4 0) (cc 3 1))))))))) (+ (+ 0 (+ 0 (+ 0 (+ 0 (+ 0 (+ 0 1)))))) 1)) 1) 0) 0)\n",
    "(+ (+ (+ (+ (+ 0 (+ 0 (+ 0 (+ 0 (+ 0 (+ 0 (+ 0 (+ 0 (+ (cc 3 0) (cc 2 1)))))))))) (+ (+ 0 (+ 0 (+ 0 (+ 0 (+ 0 1))))) 1)) 1) 0) 0)\n",
    "(+ (+ (+ (+ (+ 0 (+ 0 (+ 0 (+ 0 (+ 0 (+ 0 (+ 0 (+ 0 (+ 0 (+ (cc 2 0) (cc 1 1))))))))))) (+ (+ 0 (+ 0 (+ 0 (+ 0 1)))) 1)) 1) 0) 0)\n",
    "(+ (+ (+ (+ (+ 0 (+ 0 (+ 0 (+ 0 (+ 0 (+ 0 (+ 0 (+ 0 (+ 0 (+ 0 (+ (cc 1 0) (cc 0 1)))))))))))) (+ (+ 0 (+ 0 (+ 0 1))) 1)) 1) 0) 0)\n",
    "(+ (+ (+ (+ (+ 0 (+ 0 (+ 0 (+ 0 (+ 0 (+ 0 (+ 0 (+ 0 (+ 0 (+ 0 (+ 0 1))))))))))) (+ (+ 0 (+ 0 1)) 1)) 1) 0) 0)\n",
    "(+ (+ (+ (+ (+ 0 (+ 0 (+ 0 (+ 0 (+ 0 (+ 0 (+ 0 (+ 0 (+ 0 (+ 0 1)))))))))) (+ (+ 0 1) 1)) 1) 0) 0)\n",
    "(+ (+ (+ (+ (+ 0 (+ 0 (+ 0 (+ 0 (+ 0 (+ 0 (+ 0 (+ 0 (+ 0 1))))))))) (+ 1 1)) 1) 0) 0)\n",
    "(+ (+ (+ (+ (+ 0 (+ 0 (+ 0 (+ 0 (+ 0 (+ 0 (+ 0 (+ 0 1)))))))) 2) 1) 0) 0)\n",
    "(+ (+ (+ (+ (+ 0 (+ 0 (+ 0 (+ 0 (+ 0 (+ 0 (+ 0 1))))))) 2) 1) 0) 0)\n",
    "(+ (+ (+ (+ (+ 0 (+ 0 (+ 0 (+ 0 (+ 0 (+ 0 1)))))) 2) 1) 0) 0)\n",
    "(+ (+ (+ (+ (+ 0 (+ 0 (+ 0 (+ 0 (+ 0 1))))) 2) 1) 0) 0)\n",
    "(+ (+ (+ (+ (+ 0 (+ 0 (+ 0 (+ 0 1)))) 2) 1) 0) 0)\n",
    "(+ (+ (+ (+ (+ 0 (+ 0 (+ 0 1))) 2) 1) 0) 0)\n",
    "(+ (+ (+ (+ (+ 0 (+ 0 1)) 2) 1) 0) 0)\n",
    "(+ (+ (+ (+ (+ 0 1) 2) 1) 0) 0)\n",
    "(+ (+ (+ (+ 1 2) 1) 0) 0)\n",
    "(+ (+ (+ 3 1) 0) 0)\n",
    "(+ (+ 4 0) 0)\n",
    "(+ 4 0)\n",
    "4"
   ]
  },
  {
   "cell_type": "markdown",
   "metadata": {},
   "source": [
    "The tree illustration is drawn below, but I'll make no claims on my penmanship.\n",
    "\n",
    "![ch1-tree.jpg](images/ch1-tree.jpg)"
   ]
  },
  {
   "cell_type": "code",
   "execution_count": 51,
   "metadata": {},
   "outputs": [
    {
     "data": {
      "text/plain": [
       "4"
      ]
     },
     "execution_count": 51,
     "metadata": {},
     "output_type": "execute_result"
    }
   ],
   "source": [
    "(count-change 11)"
   ]
  },
  {
   "cell_type": "markdown",
   "metadata": {},
   "source": [
    "## Exercise 1.15\n",
    "With the recursive definition of `sine` as shown below, "
   ]
  },
  {
   "cell_type": "code",
   "execution_count": 52,
   "metadata": {},
   "outputs": [
    {
     "data": {
      "text/plain": [
       "-0.39980345741334"
      ]
     },
     "execution_count": 52,
     "metadata": {},
     "output_type": "execute_result"
    }
   ],
   "source": [
    "(define (sine angle)\n",
    "  (define (cube x) (* x x x))\n",
    "  (define (p x) (- (* 3 x) (* 4 (cube x))))\n",
    "  (if (not (> (abs angle) 0.1))\n",
    "      angle\n",
    "      (p (sine (/ angle 3.0)))))\n",
    "\n",
    "(sine 12.15)"
   ]
  },
  {
   "cell_type": "markdown",
   "metadata": {},
   "source": [
    "... how many times is the procedure `p` called?\n",
    "\n",
    "This question can be rephrased as \"How many times must `12.15` be divided by `3` in order to get a number `< 0.1`?\" In arithmetic notation, this is the same as \"What is the smallest integer value of $n$?\"\n",
    "\n",
    "$$ \\frac{12.15}{3^n} < 0.1 $$\n",
    "\n",
    "$$ \\implies 12.15 < 0.1 * 3^n $$\n",
    "\n",
    "$$ \\implies 121.5 < 3^n $$\n",
    "\n",
    "$$ \\implies log(121.5) < log(3^n) $$\n",
    "\n",
    "$$ \\implies log(121.5) < n * log(3) $$\n",
    "\n",
    "$$ \\implies \\frac{log(121.5)}{log(3)} < n $$\n",
    "\n",
    "$$ \\implies log_3(121.5) < n $$\n",
    "\n",
    "$$ \\implies n > 4.36... $$\n",
    "\n",
    "The smallest integer $n$ which holds is $ n = 5 $"
   ]
  },
  {
   "cell_type": "markdown",
   "metadata": {},
   "source": [
    "The next part of the question asks how quickly the space and number of steps increaces with `a` for the process generated by `(sine a)`.\n",
    "\n",
    "Since the result of a call to `sine` is either its argument, or the result of a call to `p`, and not a call to `sine`, the process is not rail recursive. This means that the space will grow linearly with the number of calls to `sine`, like so...\n",
    "\n",
    "```\n",
    "(sine <large-number>)\n",
    "(p (sine (/ <large-number> 3)))\n",
    "(p (sine <large-number-by-3>))\n",
    "(p (p (sine (/ <large-number-by-3> 3))))\n",
    "(p (p (sine <large-number-by-9>)))\n",
    "...\n",
    "(p (p ... (p (p <some-number>)...)))\n",
    "(p (p ... (p (- (* 3 <some-number>) (* 4 (cube <some-number>))))))\n",
    "...\n",
    "(p (p ... (p <some-other-number>)))\n",
    "```\n",
    "\n",
    "So as `a` increaces, we expect the number of calls to `p` by the procedure to increace by `(/ a 3)`. Likewise, the required space will increase by the same factor. "
   ]
  },
  {
   "cell_type": "markdown",
   "metadata": {},
   "source": [
    "## Excercise 1.16\n",
    "The hint from the exercise makes our work somewhat easier. The hint says to use the invariant $ a b^n $ to guide our procedure, meaning that we change $a$ and $n$ at each call in order to keep the expression constant, so that at the end of the call pattern, all values are known and one of the values is the answer we are looking for."
   ]
  },
  {
   "cell_type": "code",
   "execution_count": 53,
   "metadata": {},
   "outputs": [
    {
     "data": {
      "text/plain": [
       "#t"
      ]
     },
     "execution_count": 53,
     "metadata": {},
     "output_type": "execute_result"
    }
   ],
   "source": [
    "(define (fast-expt b n)\n",
    "  (fast-expt-iter 1 b n))\n",
    "\n",
    ";; Invariant -> a * b^n\n",
    "(define (fast-expt-iter a b n)\n",
    "  (define (square m) (* m m))\n",
    "  (cond ((= n 0) a)\n",
    "        ((even? n) (fast-expt-iter a\n",
    "                                   (square b)\n",
    "                                   (/ n 2)))\n",
    "        (else (fast-expt-iter (* a b)\n",
    "                              b\n",
    "                              (- n 1)))))\n",
    "\n",
    "(= 32 (fast-expt 2 5)) ;; Test that 2^5==32"
   ]
  },
  {
   "cell_type": "markdown",
   "metadata": {},
   "source": [
    "## Exercise 1.17\n",
    "Replace the existing `*` primitive with a procedure which, like `fast-expt`, uses a logarithmic amount of calls (though not a logarithmic amount of space) when generating a process."
   ]
  },
  {
   "cell_type": "code",
   "execution_count": 54,
   "metadata": {},
   "outputs": [
    {
     "data": {
      "text/plain": [
       "#t"
      ]
     },
     "execution_count": 54,
     "metadata": {},
     "output_type": "execute_result"
    }
   ],
   "source": [
    "(define (new* a b)\n",
    "  (if (= b 0)\n",
    "      0\n",
    "      (+ a (new* a (- b 1)))))\n",
    "\n",
    "(= (new* 5 3) 15)"
   ]
  },
  {
   "cell_type": "code",
   "execution_count": 55,
   "metadata": {},
   "outputs": [
    {
     "data": {
      "text/plain": [
       "#t"
      ]
     },
     "execution_count": 55,
     "metadata": {},
     "output_type": "execute_result"
    }
   ],
   "source": [
    "(define (fast-new* a n)\n",
    "  (define (double m) (+ m m))\n",
    "  (define (halve m) (/ m 2))\n",
    "  (cond ((= n 0) 0)                                  ;; a * 0 == 0\n",
    "        ((= n 1) a)                                  ;; a * 1 == a\n",
    "        ((even? n) (double (fast-new* a (halve n)))) ;; a * 2n == 2(a * n)\n",
    "        (else (+ a (fast-new* a (- n 1))))))         ;; a * (2n + 1) == a + a * 2n\n",
    "\n",
    "(and (= (fast-new* 5  3) 15)    ;; Test our new procedure, 5*3==15\n",
    "     (= (fast-new* 0  2) 0)     ;; 0*2==0\n",
    "     (= (fast-new* 10 0) 0)     ;; 10*0==0\n",
    "     (= (fast-new* 7  7) 49)    ;; 7*7==49\n",
    "     (= (fast-new* 1  1) 1))    ;; 1*1==1"
   ]
  },
  {
   "cell_type": "markdown",
   "metadata": {},
   "source": [
    "## Exercise 1.18\n",
    "The same as 1.17, but with a logarithmic amount of space."
   ]
  },
  {
   "cell_type": "code",
   "execution_count": 56,
   "metadata": {},
   "outputs": [
    {
     "data": {
      "text/plain": [
       "#t"
      ]
     },
     "execution_count": 56,
     "metadata": {},
     "output_type": "execute_result"
    }
   ],
   "source": [
    "(define (fast-new* a b)\n",
    "  (fast-new*-iter 0 a b))\n",
    "\n",
    ";; Invariant -> n + a b\n",
    "(define (fast-new*-iter n a b)\n",
    "  (define (double m) (+ m m))\n",
    "  (cond ((= b 0) n)\n",
    "        ((even? b) (fast-new*-iter n\n",
    "                                   (double a)\n",
    "                                   (/ b 2)))\n",
    "        (else (fast-new*-iter (+ n a)\n",
    "                              a\n",
    "                              (- b 1)))))\n",
    "\n",
    "(and (= (fast-new* 5 3) 15)    ;; Test our new procedure, 5*3==15\n",
    "     (= (fast-new* 0 2) 0)     ;; 0  * 2 == 0\n",
    "     (= (fast-new* 10 0) 0)    ;; 10 * 0 == 0\n",
    "     (= (fast-new* 7 7) 49)    ;; 7  * 7 == 49\n",
    "     (= (fast-new* 1 1) 1))    ;; 1  * 1 == 1"
   ]
  },
  {
   "cell_type": "markdown",
   "metadata": {},
   "source": [
    "## Exercise 1.19\n",
    "The special case of $\\{a \\leftarrow bq + aq + ap, b \\leftarrow bp + aq\\}$ is $\\{q = 1, p = 0\\}$.\n",
    "\n",
    "Applying this transformation twice, we get:\n",
    "\n",
    "$$ S_0 = (a, b) $$\n",
    "\n",
    "$$ S_1 = (bq + aq + ap, bp + aq) $$\n",
    "\n",
    "$$ S_2 = (bq + a(q + p), bp + aq) $$\n",
    "\n",
    "$$ (q(bp + aq) + (q + p)(bq + aq + ap), p(bp + aq) + q(bq + aq + ap)) $$\n",
    "\n",
    "$$ = (bpq + aqq + bqq + aqq + apq + bpq + apq + app, bpp + apq + bqq + aqq + apq) $$\n",
    "\n",
    "$$ = (2bpq + 2aqq + bqq + 2apq + app, bpp + 2apq + bqq + aqq) $$\n",
    "\n",
    "$$ = (2apq + 2aqq + app + 2bpq + bqq, 2apq + aqq + bpp + bqq) $$\n",
    "\n",
    "$$ = (a(2apq + 2qq + pp) + b(2pq + qq), a(2pq + qq) + b(pp + qq)) $$\n",
    "\n",
    "$$ = (a(2pq + qq) + a(pp + qq) + b(2pq + qq), a(2pq + qq) + b(pp + qq)) $$\n",
    "\n",
    "$$ = (b(2qp + qq) + a(2pq + qq) + a(qq + pp), b(pp + qq) + a(2pq + qq)) $$\n",
    "\n",
    "Applying the transformation $T_{p'q'}$, which is $a \\leftarrow bq' + aq' + ap'$, $b \\leftarrow bp' + aq'$, gives the same answer when:\n",
    "\n",
    "$$ p' = pp + pq $$\n",
    "\n",
    "$$ q' = 2pq + qq $$"
   ]
  },
  {
   "cell_type": "markdown",
   "metadata": {},
   "source": [
    "Using this definition of $p'$ and $q'$, we can complete the code given in the text:"
   ]
  },
  {
   "cell_type": "code",
   "execution_count": 57,
   "metadata": {},
   "outputs": [
    {
     "data": {
      "text/plain": [
       "#t"
      ]
     },
     "execution_count": 57,
     "metadata": {},
     "output_type": "execute_result"
    }
   ],
   "source": [
    "(define (log-fib n) ;; Rename to log-fib so we can mantain the defintion of fib\n",
    "  (fib-iter 1 0 0 1 n))\n",
    "(define (fib-iter a b p q count)\n",
    "  (cond ((= count 0) b)\n",
    "        ((even? count)\n",
    "         (fib-iter a\n",
    "                   b\n",
    "                   (+ (* p p) (* q q))\n",
    "                   (+ (* q q) (* 2 p q))\n",
    "                   (/ count 2)))\n",
    "        (else (fib-iter (+ (* b q) (* a q) (* a p))\n",
    "                        (+ (* b p) (* a q))\n",
    "                        p\n",
    "                        q\n",
    "                        (- count 1)))))\n",
    "\n",
    "(and (= (log-fib 1) 1)\n",
    "     (= (log-fib 2) 1)\n",
    "     (= (log-fib 3) 2)\n",
    "     (= (log-fib 4) 3)\n",
    "     (= (log-fib 5) 5)\n",
    "     (= (log-fib 6) 8))"
   ]
  },
  {
   "cell_type": "markdown",
   "metadata": {},
   "source": [
    "## Exercise 1.20\n",
    "Interpreting the expression `(gcd 206 40)` using normal-order evaluation, and given the definition of `gcd`:"
   ]
  },
  {
   "cell_type": "code",
   "execution_count": 58,
   "metadata": {},
   "outputs": [],
   "source": [
    "(define (gcd a b)\n",
    "  (if (= b 0)\n",
    "      a\n",
    "      (gcd b (remainder a b))))"
   ]
  },
  {
   "cell_type": "markdown",
   "metadata": {},
   "source": [
    "we get a process which requires much more space:"
   ]
  },
  {
   "cell_type": "raw",
   "metadata": {},
   "source": [
    "(gcd 206 40)\n",
    "(gcd 40 (remainder 206 40))\n",
    "(gcd (remainder 206 40) (remainder 40 (remainder 206 40)))\n",
    "(gcd (remainder 40 (remainder 206 40)) (remainder (remainder 206 40) (remainder 40 (remainder 206 40))))\n",
    "(gcd (remainder (remainder 206 40) (remainder 40 (remainder 206 40))) (remainder (remainder 40 (remainder 206 40)) (remainder (remainder 206 40) (remainder 40 (remainder 206 40)))))\n",
    "\n",
    ";; At this step, the interpreter will evaluate the second parameter of `gcd` as `0`\n",
    ";; and the expression will evaluate to `a`\n",
    "\n",
    "(remainder (remainder 206 40) (remainder 40 (remainder 206 40)))\n",
    "(remainder (remainder 206 40) (remainder 40 6))\n",
    "(remainder (remainder 206 40) 4)\n",
    "(remainder 2 4)\n",
    "2"
   ]
  },
  {
   "cell_type": "code",
   "execution_count": 59,
   "metadata": {},
   "outputs": [
    {
     "data": {
      "text/plain": [
       "2"
      ]
     },
     "execution_count": 59,
     "metadata": {},
     "output_type": "execute_result"
    }
   ],
   "source": [
    "(remainder (remainder 206 40) (remainder 40 (remainder 206 40)))"
   ]
  },
  {
   "cell_type": "markdown",
   "metadata": {},
   "source": [
    "As a simple proof that this expansion is correct, the longest line in the expanstion evaluates correctly:"
   ]
  },
  {
   "cell_type": "code",
   "execution_count": 60,
   "metadata": {},
   "outputs": [
    {
     "data": {
      "text/plain": [
       "2"
      ]
     },
     "execution_count": 60,
     "metadata": {},
     "output_type": "execute_result"
    }
   ],
   "source": [
    "(gcd (remainder (remainder 206 \n",
    "                           40) \n",
    "                (remainder 40 \n",
    "                           (remainder 206 \n",
    "                                      40))) \n",
    "     (remainder (remainder 40 \n",
    "                           (remainder 206 \n",
    "                                      40)) \n",
    "                (remainder (remainder 206 \n",
    "                                      40) \n",
    "                           (remainder 40 \n",
    "                                      (remainder 206 \n",
    "                                                 40)))))"
   ]
  },
  {
   "cell_type": "markdown",
   "metadata": {},
   "source": [
    "By counting, we see that the `remainder` operation is performed 11 times. For applicative-order evalutation, on the other hand..."
   ]
  },
  {
   "cell_type": "raw",
   "metadata": {},
   "source": [
    "(gcd 260 40)\n",
    "(gcd 40 (remainder 206 40))\n",
    "(gcd 40 6)\n",
    "(gcd 6 (remainder 40 6))\n",
    "(gcd 6 4)\n",
    "(gcd 4 (remainder 6 4))\n",
    "(gcd 4 2)\n",
    "(gcd 2 (remainder 4 2))\n",
    "(gcd 2 0)\n",
    "2"
   ]
  },
  {
   "cell_type": "markdown",
   "metadata": {},
   "source": [
    "By counting, we can see that the `remainder` operation is performed 4 times. The difference $-$ the reason why the `remainder` operation is called fewer times with applicative-order evaluation, is that with normal-order evaluation, the same `remainder` operation is performed multiple times.\n",
    "\n",
    "```lisp\n",
    "(remainder (remainder 206 \n",
    "                           40) \n",
    "                (remainder 40 \n",
    "                           (remainder 206 \n",
    "                                      40))) \n",
    "```\n",
    "This expression appears in both arguments of the `gcd` expression."
   ]
  }
 ],
 "metadata": {
  "kernelspec": {
   "display_name": "Calysto Scheme 3",
   "language": "scheme",
   "name": "calysto_scheme"
  },
  "language_info": {
   "codemirror_mode": {
    "name": "scheme"
   },
   "mimetype": "text/x-scheme",
   "name": "scheme",
   "pygments_lexer": "scheme"
  }
 },
 "nbformat": 4,
 "nbformat_minor": 2
}
