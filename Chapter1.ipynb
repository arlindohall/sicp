{
 "cells": [
  {
   "cell_type": "markdown",
   "metadata": {},
   "source": [
    "# Chapter 1\n",
    "Covers the concepts of __primitives__, __combinations__, and __abstractions__.\n",
    "\n",
    "- Primitive: a symbol directly manipulable by the language, ex. integers, addition\n",
    "- Combination: a means of combining epxressions of primitives to make complex expressions\n",
    "- Abstraction: a way to label combinations and use them as primitives in a more complex problem\n",
    "\n",
    "The meaning of symbols in these combinatorial expressions, it is said, are determined by the __global environment__.\n",
    "\n",
    "All expressions by default are evaluated as such: the first item in the expression is the operand, and operates on all the items in the expression. Special forms are introduced which are exceptions to this rule. In order for the expression to be evaluated, its operands are evaluated, then the result is substituted into the definition of the operator (recursively repeating this process until only primitives remain), and then the final primitive expression is evaluated. This is called __applicative order__ because the operator is applied to the results of evaluating the operands.\n",
    "\n",
    "The other means of evaluating expressions is to first substitute the operand values into the operand, and then evaluate the result. That is, take the values for parameters (unevaluated), and substitute them in for the operator's parameters until only primitives remain, and evaluate the resulting expression. This is called __normal order__ evaluation. In __normal order__ evaluation, we will repeat evaluations for operand expressions if the corresponding parameter appears multiple times in the operator's definition.\n",
    "\n",
    "## Ordinary procedures\n",
    "- `not` because the value of the operand is always evaluated\n",
    "\n",
    "## Special Forms\n",
    "- `define` is used to create new operands\n",
    "- `cond` is used to conditionally evaluate expressions. Only the first expression whose predicate is true is evaluated, and predicates are evaluated in order\n",
    "- `if` is used to conditionally evaluate one of two expressions, depending on the result of evaluating the predicate (if true, evaluate the consequent, otherwise the alternative)\n",
    "- `and` evaluate the operands until one evaluates to false or none are left, and the value of the expression is the result of the most recently evaluated operand\n",
    "- `or` evaluate the operands until one evaluates to a true value or none are left, and return the value of the most recently evaluated expression"
   ]
  },
  {
   "cell_type": "markdown",
   "metadata": {},
   "source": [
    "## Exercise 1.1\n",
    "The number 10 simply evaluates to `10`"
   ]
  },
  {
   "cell_type": "code",
   "execution_count": 3,
   "metadata": {},
   "outputs": [
    {
     "data": {
      "text/plain": [
       "10"
      ]
     },
     "execution_count": 3,
     "metadata": {},
     "output_type": "execute_result"
    }
   ],
   "source": [
    "10"
   ]
  },
  {
   "cell_type": "markdown",
   "metadata": {},
   "source": [
    "This expression sums the three numbers since operators may take an arbitrary number of operands. The result is `12`"
   ]
  },
  {
   "cell_type": "code",
   "execution_count": 4,
   "metadata": {},
   "outputs": [
    {
     "data": {
      "text/plain": [
       "12"
      ]
     },
     "execution_count": 4,
     "metadata": {},
     "output_type": "execute_result"
    }
   ],
   "source": [
    "(+ 5 4 3)"
   ]
  },
  {
   "cell_type": "markdown",
   "metadata": {},
   "source": [
    "This expression is a simple subtraction; the result is `8`"
   ]
  },
  {
   "cell_type": "code",
   "execution_count": 5,
   "metadata": {},
   "outputs": [
    {
     "data": {
      "text/plain": [
       "8"
      ]
     },
     "execution_count": 5,
     "metadata": {},
     "output_type": "execute_result"
    }
   ],
   "source": [
    "(- 9 1)"
   ]
  },
  {
   "cell_type": "markdown",
   "metadata": {},
   "source": [
    "This is an integer division problem whose result is `3`"
   ]
  },
  {
   "cell_type": "code",
   "execution_count": 6,
   "metadata": {},
   "outputs": [
    {
     "data": {
      "text/plain": [
       "3"
      ]
     },
     "execution_count": 6,
     "metadata": {},
     "output_type": "execute_result"
    }
   ],
   "source": [
    "(/ 6 2)"
   ]
  },
  {
   "cell_type": "markdown",
   "metadata": {},
   "source": [
    "This is a compound expression. The operator is a primitive, so no substitution is required. The operands evaluate to `8` and `-2` respectively, so the result is `6`"
   ]
  },
  {
   "cell_type": "code",
   "execution_count": 7,
   "metadata": {},
   "outputs": [
    {
     "data": {
      "text/plain": [
       "6"
      ]
     },
     "execution_count": 7,
     "metadata": {},
     "output_type": "execute_result"
    }
   ],
   "source": [
    "(+ (* 2 4) (- 4 6))"
   ]
  },
  {
   "cell_type": "markdown",
   "metadata": {},
   "source": [
    "This is the first example of a special form. Define does not evaluate either `a` or the primitive `3`, but instead creates a new symbol in the environment called `a`, whose definition is the primitive `3`. This result is not accompanied by any output, but does affect our use of the symbol `a` in future expressions."
   ]
  },
  {
   "cell_type": "code",
   "execution_count": 8,
   "metadata": {},
   "outputs": [],
   "source": [
    "(define a 3)"
   ]
  },
  {
   "cell_type": "markdown",
   "metadata": {},
   "source": [
    "This expression defines a new symbol which is equal to the evaluation of the second operand, `(+ a 1)`, which is the same as the arithmetical expression `a + 1`, which is `4`."
   ]
  },
  {
   "cell_type": "code",
   "execution_count": 9,
   "metadata": {},
   "outputs": [],
   "source": [
    "(define b (+ a 1))"
   ]
  },
  {
   "cell_type": "markdown",
   "metadata": {},
   "source": [
    "This expression retrieves the values of `a` and `b` from the environment, and uses them to evaluate first the operand `(* a b)` to `(* 3 4)`, which is `12`, and then the complete expression `(+ a b 12)`, which is `(+ 3 4 12)`, evaluates to `19`."
   ]
  },
  {
   "cell_type": "code",
   "execution_count": 10,
   "metadata": {},
   "outputs": [
    {
     "data": {
      "text/plain": [
       "19"
      ]
     },
     "execution_count": 10,
     "metadata": {},
     "output_type": "execute_result"
    }
   ],
   "source": [
    "(+ a b (* a b))"
   ]
  },
  {
   "cell_type": "markdown",
   "metadata": {},
   "source": [
    "This expression is a predicate, since it evaluates to \"false\", which in Scheme is represented by the symbol `#f`"
   ]
  },
  {
   "cell_type": "code",
   "execution_count": 11,
   "metadata": {},
   "outputs": [
    {
     "data": {
      "text/plain": [
       "#f"
      ]
     },
     "execution_count": 11,
     "metadata": {},
     "output_type": "execute_result"
    }
   ],
   "source": [
    "(= a b)"
   ]
  },
  {
   "cell_type": "markdown",
   "metadata": {},
   "source": [
    "Now we have our second special form: `if`. This expression first evaluates the predicate to see that `b` is greater than `a`, and `b` is less than `b * a`, and since the predicate is true, the consequent is then evaluated to `b`, which is `4`, so the value of the whole expression is `4`."
   ]
  },
  {
   "cell_type": "code",
   "execution_count": 12,
   "metadata": {},
   "outputs": [
    {
     "data": {
      "text/plain": [
       "4"
      ]
     },
     "execution_count": 12,
     "metadata": {},
     "output_type": "execute_result"
    }
   ],
   "source": [
    "(if (and (> b a) (< b (* a b)))\n",
    "    b\n",
    "    a)"
   ]
  },
  {
   "cell_type": "markdown",
   "metadata": {},
   "source": [
    "This expression uses the special form `cond`. The first predicate is evaluated, and since `a` is not equal to `4`, evaluation continues. The second predicate is evaluated, and found to be true, so the value of the whole expression is equal to the evaluation of the second consequent, which is equal to `16`"
   ]
  },
  {
   "cell_type": "code",
   "execution_count": 13,
   "metadata": {},
   "outputs": [
    {
     "data": {
      "text/plain": [
       "16"
      ]
     },
     "execution_count": 13,
     "metadata": {},
     "output_type": "execute_result"
    }
   ],
   "source": [
    "(cond ((= a 4) 6)\n",
    "      ((= b 4) (+ 6 7 a))\n",
    "      (else 25))"
   ]
  },
  {
   "cell_type": "markdown",
   "metadata": {},
   "source": [
    "This expression uses the special form `if` as an operand. The `if` statement evaluates to `b`, and then `b` is added to `2` to get `6`"
   ]
  },
  {
   "cell_type": "code",
   "execution_count": 14,
   "metadata": {},
   "outputs": [
    {
     "data": {
      "text/plain": [
       "6"
      ]
     },
     "execution_count": 14,
     "metadata": {},
     "output_type": "execute_result"
    }
   ],
   "source": [
    "(+ 2 (if (> b a) b a))"
   ]
  },
  {
   "cell_type": "markdown",
   "metadata": {},
   "source": [
    "Similar to the above, the `cond` expression evaluates to `b`, which is the only consequent in the `cond` expression to be evaluated. This result is multiplied by `a + 1` to get `16`"
   ]
  },
  {
   "cell_type": "code",
   "execution_count": 15,
   "metadata": {},
   "outputs": [
    {
     "data": {
      "text/plain": [
       "16"
      ]
     },
     "execution_count": 15,
     "metadata": {},
     "output_type": "execute_result"
    }
   ],
   "source": [
    "(* (cond ((> a b) a)\n",
    "         ((< a b) b)\n",
    "         (else -1))\n",
    "   (+ a 1))"
   ]
  },
  {
   "cell_type": "markdown",
   "metadata": {},
   "source": [
    "## Exercise 1.2\n",
    "This problem asks us to go from standard arithmetic notation to prefix notation. In order to do so, we must use the order of operations. The fraction bar is the least tightly bound operator, so it goes first. The groupings in the numerator are all unnecessary, since addition is associative. On the bottom, the multiplication binds less tightly than the groupings, so the two subtractions must take place first, i.e. the multiplication comes first in prefix notation.\n",
    "\n",
    "I am reading the expression to be: $$ \\frac{5 + 4 + (2 - (3 - (6 + \\frac{4}{5}))}{3 (6 - 2) (2 - 7)} $$\n",
    "\n",
    "To check our work, we note that the arithmetic expression evaluates to: `(5 + 4 + 2 - (3 - (6 + 4/5)))/(3 * (6 - 2) * (2 - 7))` = `-37/150` = `-0.247`"
   ]
  },
  {
   "cell_type": "code",
   "execution_count": 16,
   "metadata": {},
   "outputs": [
    {
     "data": {
      "text/plain": [
       "-37/150"
      ]
     },
     "execution_count": 16,
     "metadata": {},
     "output_type": "execute_result"
    }
   ],
   "source": [
    "(/ (- (+ 5 4 2)\n",
    "      (- 3 (+ 6 (/ 4 5))))\n",
    "   (* 3\n",
    "      (- 6 2)\n",
    "      (- 2 7)))"
   ]
  },
  {
   "cell_type": "markdown",
   "metadata": {},
   "source": [
    "## Exercise 1.3\n",
    "The procedure below is to return the sum of the squares of the larger two of a group of three numbers. I use the procedure `sum-of-squares` from the text."
   ]
  },
  {
   "cell_type": "code",
   "execution_count": 17,
   "metadata": {},
   "outputs": [],
   "source": [
    "(define (square x) (* x x))\n",
    "(define (sum-of-squares x y)\n",
    "  (+ (square x) (square y)))\n",
    "\n",
    "(define (f a b c) \n",
    "  (cond ((and (<= a b) (<= a c)) (sum-of-squares b c))\n",
    "        ((and (<= b a) (<= b c)) (sum-of-squares a c))\n",
    "        ((and (<= c a) (<= c b)) (sum-of-squares a b))))"
   ]
  },
  {
   "cell_type": "markdown",
   "metadata": {},
   "source": [
    "As an example, the sum-of-squares of `3` and `4` is `25`, and so `(f 2 3 4)` should return `25`"
   ]
  },
  {
   "cell_type": "code",
   "execution_count": 18,
   "metadata": {},
   "outputs": [
    {
     "data": {
      "text/plain": [
       "25"
      ]
     },
     "execution_count": 18,
     "metadata": {},
     "output_type": "execute_result"
    }
   ],
   "source": [
    "(f 2 3 4)"
   ]
  },
  {
   "cell_type": "markdown",
   "metadata": {},
   "source": [
    "## Exercise 1.4\n",
    "I use the definition of `abs` from the chapter to test the behavior of the following routine according to the semanics. The expectation is that the `if` statement chooses the operator based on the value of `b`, and then uses the resulting operator to evaluate the whole expression. Thus we expect the predicate to evaluate to \"true\", which in scheme is represented as `#t`"
   ]
  },
  {
   "cell_type": "code",
   "execution_count": 19,
   "metadata": {},
   "outputs": [
    {
     "data": {
      "text/plain": [
       "#t"
      ]
     },
     "execution_count": 19,
     "metadata": {},
     "output_type": "execute_result"
    }
   ],
   "source": [
    "(define (abs x)\n",
    "  (if (< x 0)\n",
    "      (- x)\n",
    "      x))\n",
    "\n",
    "(define (a-plus-abs-b a b)\n",
    "  ((if (> b 0) + -) a b))\n",
    "\n",
    "(= (+ 1 (abs -2))\n",
    "   (a-plus-abs-b 1 -2))"
   ]
  },
  {
   "cell_type": "markdown",
   "metadata": {},
   "source": [
    "## Exercise 1.5\n",
    "In either evaluation order, we are to treat the `if` statement as evaluating the same. Thus in either evaluation order, the `if` statement will find the condition to be true, and evaluate to the consequent, or `0`. \n",
    "\n",
    "The difference is, in an __applicative order__ interpreter, the operands of `test` will be evaluated, and `p` will be treated as a procedure with no arguments, which evaluates to itself. This will result in infinite recursion. In a __normal order__ interpreter, the two expressions (`0` and `(p)`), will be substituted into the original definition, and since the `if` statement does not evaluate the alternative, the statement `p` will never be evaluated."
   ]
  },
  {
   "cell_type": "code",
   "execution_count": 20,
   "metadata": {},
   "outputs": [],
   "source": [
    "(define (p) (p))\n",
    "\n",
    "(define (test x y)\n",
    "  (if (= x 0)\n",
    "      0\n",
    "      y))"
   ]
  },
  {
   "cell_type": "markdown",
   "metadata": {},
   "source": [
    "The test procedure is shown here to work with two integers, showing that it is in fact the definition of `(p)` which causes the infinite loop to occure when `test` is evaluated. That is, the problem would occur with any procedure evaluated in __applicative order__."
   ]
  },
  {
   "cell_type": "code",
   "execution_count": 21,
   "metadata": {},
   "outputs": [
    {
     "data": {
      "text/plain": [
       "0"
      ]
     },
     "execution_count": 21,
     "metadata": {},
     "output_type": "execute_result"
    }
   ],
   "source": [
    "(test 0 1)"
   ]
  },
  {
   "cell_type": "markdown",
   "metadata": {},
   "source": [
    "In the following code, `(p)` is quoted (which refers to the list containing the symbol `p` rather than the procedure `(p)` with no arguments), since the scheme interpreter uses __applicative order__, and the result would be an infinite loop which would cause errors with the Jupyter notebook."
   ]
  },
  {
   "cell_type": "code",
   "execution_count": 22,
   "metadata": {},
   "outputs": [
    {
     "data": {
      "text/plain": [
       "0"
      ]
     },
     "execution_count": 22,
     "metadata": {},
     "output_type": "execute_result"
    }
   ],
   "source": [
    "(test 0 '(p))"
   ]
  },
  {
   "cell_type": "markdown",
   "metadata": {},
   "source": [
    "## Procedures vs. Functions\n",
    "The difference here is explained: that a function is declarative, while a procedure is effective. In order to be a procedure, an expression must follow some process to find the answer, rather than simply describe the answer to a question. As an example, the following are given as a definition of the square root."
   ]
  },
  {
   "cell_type": "code",
   "execution_count": 23,
   "metadata": {},
   "outputs": [
    {
     "data": {
      "text/plain": [
       "3.00009155413138"
      ]
     },
     "execution_count": 23,
     "metadata": {},
     "output_type": "execute_result"
    }
   ],
   "source": [
    "(define (sqrt-iter guess x)\n",
    "  (if (good-enough? guess x)\n",
    "      guess\n",
    "      (sqrt-iter (improve guess x)\n",
    "                 x)))\n",
    "\n",
    "(define (improve guess x)\n",
    "  (average guess (/ x guess)))\n",
    "\n",
    "(define (average x y)\n",
    "  (/ (+ x y) 2))\n",
    "\n",
    "(define (good-enough? guess x)\n",
    "  (< (abs (- (square guess) x)) 0.001))\n",
    "\n",
    "(define (sqrt x)\n",
    "  (sqrt-iter 1.0 x))\n",
    "\n",
    "(sqrt 9)"
   ]
  },
  {
   "cell_type": "markdown",
   "metadata": {},
   "source": [
    "## Exercise 1.6\n",
    "Alyssa's `new-if` procedure seems at first glance to work just like `if`. In fact, if the logic inside of `new-if` were used in place of `if`, then it would work exactly the same. The problem with the `new-if` construct is parallel to the issue in Exercise 1.5 - the __applicative order__ evaluation causes both the consequent and the alternative to be evaluated before being passed to the `new-if` procedure. This causes our `square-root` procedure to infinitely evaluate the expression `(sqrt-iter (improve guess x) x))`.\n",
    "\n",
    "To demonstrate this, I'll show that using the `cond` logic works. However, demonstrating the infinite regress of the `new-if` statement would break the notebook, so it will be \"left as an exercise to the reader\"."
   ]
  },
  {
   "cell_type": "code",
   "execution_count": 24,
   "metadata": {},
   "outputs": [
    {
     "data": {
      "text/plain": [
       "5"
      ]
     },
     "execution_count": 24,
     "metadata": {},
     "output_type": "execute_result"
    }
   ],
   "source": [
    "(define (new-if predicate then-clause else-clause)\n",
    "  (cond (predicate then-clause)\n",
    "        (else else-clause)))\n",
    "\n",
    "(new-if (= 2 3) 0 5)"
   ]
  },
  {
   "cell_type": "code",
   "execution_count": 25,
   "metadata": {},
   "outputs": [
    {
     "data": {
      "text/plain": [
       "0"
      ]
     },
     "execution_count": 25,
     "metadata": {},
     "output_type": "execute_result"
    }
   ],
   "source": [
    "(new-if (= 1 1) 0 5)"
   ]
  },
  {
   "cell_type": "markdown",
   "metadata": {},
   "source": [
    "It can be seen that the `cond` statement below is equivalent to the definition of `new-if`, and the problem arises from the application of `new-if`, rather than the logic or evaluation order of `cond`.\n",
    "\n",
    "Using __normal order__ evaluation, we would find that applying `new-if` to the operands of:\n",
    "```\n",
    "(define (sqrt-iter guess x)\n",
    "  (new-if (good-enough? guess x)\n",
    "          guess\n",
    "          (sqrt-iter (improve guess x)\n",
    "                     x)))\n",
    "```\n",
    "would result in the following bindings:\n",
    "```\n",
    "(good-enough? guess x)              => predicate\n",
    "guess                               => then-clause\n",
    "(sqrt-iter (improve guess x) x)))   => else-clause\n",
    "```\n",
    "which is where the following expression comes from."
   ]
  },
  {
   "cell_type": "code",
   "execution_count": 26,
   "metadata": {},
   "outputs": [
    {
     "data": {
      "text/plain": [
       "3.00009155413138"
      ]
     },
     "execution_count": 26,
     "metadata": {},
     "output_type": "execute_result"
    }
   ],
   "source": [
    "(define (sqrt-iter guess x)\n",
    "  (cond ((good-enough? guess x) guess)\n",
    "        (else (sqrt-iter (improve guess x) x))))\n",
    "\n",
    "(sqrt 9)"
   ]
  },
  {
   "cell_type": "markdown",
   "metadata": {},
   "source": [
    "## Exercise 1.8\n",
    "In order to adapt our `sqrt` procedure to compute cubed roots, the only aspect which needs to change is the `improve` procedure. Since we will implement Newton's method more generally as a later problem according to the text, I'll just re-write `improve` and `sqrt-iter` and `sqrt` here for cube roots.\n",
    "\n",
    "This is really just an exercise in prefix notation, as well as a chance to work out the logic of the `sqrt` procedure for oneself."
   ]
  },
  {
   "cell_type": "code",
   "execution_count": 27,
   "metadata": {},
   "outputs": [
    {
     "data": {
      "text/plain": [
       "3.0000005410641766"
      ]
     },
     "execution_count": 27,
     "metadata": {},
     "output_type": "execute_result"
    }
   ],
   "source": [
    "(define (cube x) (* x x x))\n",
    "\n",
    "(define (cbrt-iter guess x)\n",
    "  (if (good-enough-cbrt? guess x)\n",
    "      guess\n",
    "      (cbrt-iter (improve-cbrt guess x)\n",
    "                 x)))\n",
    "\n",
    "(define (good-enough-cbrt? guess x)\n",
    "  (< (abs (- (cube guess) x)) 0.001))\n",
    "\n",
    "(define (improve-cbrt guess x)\n",
    "  (/ (+ (/ x\n",
    "           (square guess))\n",
    "        (* 2 guess)) \n",
    "     3))\n",
    "\n",
    "(define (cbrt x)\n",
    "  (cbrt-iter 1.0 x))\n",
    "\n",
    "(cbrt 27)"
   ]
  },
  {
   "cell_type": "markdown",
   "metadata": {},
   "source": [
    "## Recursion\n",
    "The remainder of the chapter explains the basics of recursion. One noteworthy abstraction is the procedure graph, which shows the procedures composing `sqrt`, the procedures composing those, and so on. This shows that each procedure is build of smaller components, which we do not need to completely understand to be able to comprehend the process of evaluating the `sqrt` procedure.\n",
    "\n",
    "__Bound__ and __free__ variables are also discussed. __Bound__ variables are those which are declared in the first operand of the `define` special form. These have a certain value in the scope of the procedure which is determined at the time the procedure is called. __Free__ variables, on the other hand, are not set to a determined value, but instead are defined by the larger environment, or scope. For example, in `good-enough?`, `abs` is defined above. It is also noteworthy that we can name a __bound__ variable in such a way as to co-opt a named variable in a larger scope without affecting the accessors of that variable outside our current scope.\n",
    "\n",
    "Building on this idea, we can use what is called __block structure__, where we put definitions of helper procedures inside the parent procedure. In this case, the eample given is:"
   ]
  },
  {
   "cell_type": "code",
   "execution_count": 28,
   "metadata": {},
   "outputs": [
    {
     "data": {
      "text/plain": [
       "3.00009155413138"
      ]
     },
     "execution_count": 28,
     "metadata": {},
     "output_type": "execute_result"
    }
   ],
   "source": [
    "(define (sqrt x)\n",
    "  (define (sqare x) \n",
    "    (* x x))\n",
    "  (define (average x y)\n",
    "    (/ (+ x y) 2))\n",
    "  (define (good-enough? guess x)\n",
    "    (< (abs (- (square guess) x)) 0.001))\n",
    "  (define (improve guess x)\n",
    "    (average guess (/ x guess)))\n",
    "  (define (sqrt-iter guess x)\n",
    "    (if (good-enough? guess x)\n",
    "        guess\n",
    "        (sqrt-iter (improve guess x) x)))\n",
    "  (sqrt-iter 1.0 x))\n",
    "\n",
    "(sqrt 9)"
   ]
  },
  {
   "cell_type": "markdown",
   "metadata": {},
   "source": [
    "Next, it is observed that the variable `x` has the same meaning throughout the procedure `sqrt`'s definition. Therefore the concept of __lexical scoping__ is introduced, where if a __bound__ variable is going to have the same value as its value in the parent scope, we can simply remove the __bound__ variable from the parameters list and let this value be used in the child definitions, making it a __free__ variable in the child procedure while remaining __bound__ by the parent."
   ]
  },
  {
   "cell_type": "code",
   "execution_count": 1,
   "metadata": {},
   "outputs": [
    {
     "data": {
      "text/plain": [
       "3.00009155413138"
      ]
     },
     "execution_count": 1,
     "metadata": {},
     "output_type": "execute_result"
    }
   ],
   "source": [
    "(define (sqrt x)\n",
    "  (define (square y)\n",
    "    (* y y))\n",
    "  (define (average a b)\n",
    "    (/ (+ a b) 2))\n",
    "  (define (good-enough? guess)\n",
    "    (< (abs (- (square guess) x)) 0.001))\n",
    "  (define (improve guess)\n",
    "    (average guess (/ x guess)))\n",
    "  (define (sqrt-iter guess)\n",
    "    (if (good-enough? guess)\n",
    "        guess\n",
    "        (sqrt-iter (improve guess))))\n",
    "  (sqrt-iter 1.0))\n",
    "\n",
    "(sqrt 9)"
   ]
  },
  {
   "cell_type": "markdown",
   "metadata": {},
   "source": [
    "I would like to improve on this definition, which doesn't quite match the book so that it may definitely be run without necessarily running the above definitions of `average` and `square`, by fully binding the variables `guess` and `x` in the definitions of `average` and `square`."
   ]
  },
  {
   "cell_type": "code",
   "execution_count": 2,
   "metadata": {},
   "outputs": [
    {
     "data": {
      "text/plain": [
       "3.00009155413138"
      ]
     },
     "execution_count": 2,
     "metadata": {},
     "output_type": "execute_result"
    }
   ],
   "source": [
    "(define (sqrt x)\n",
    "  (define (good-enough? guess)\n",
    "    (define (square y)\n",
    "      (* y y))\n",
    "    (< (abs (- (square guess) x)) 0.001))\n",
    "  (define (improve guess)\n",
    "    (define (average a b)\n",
    "      (/ (+ a b) 2))\n",
    "    (average guess (/ x guess)))\n",
    "  (define (sqrt-iter guess)\n",
    "    (if (good-enough? guess)\n",
    "        guess\n",
    "        (sqrt-iter (improve guess))))\n",
    "  (sqrt-iter 1.0))\n",
    "\n",
    "(sqrt 9)"
   ]
  }
 ],
 "metadata": {
  "kernelspec": {
   "display_name": "Calysto Scheme 3",
   "language": "scheme",
   "name": "calysto_scheme"
  },
  "language_info": {
   "codemirror_mode": {
    "name": "scheme"
   },
   "mimetype": "text/x-scheme",
   "name": "scheme",
   "pygments_lexer": "scheme"
  }
 },
 "nbformat": 4,
 "nbformat_minor": 2
}
